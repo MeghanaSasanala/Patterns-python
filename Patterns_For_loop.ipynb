{
 "cells": [
  {
   "cell_type": "code",
   "execution_count": 209,
   "id": "d069f778",
   "metadata": {},
   "outputs": [],
   "source": [
    "class Patterns:\n",
    "    '''This is a class containing Patterns'''\n",
    "    def __init__(self,n):\n",
    "        assert type(n)==int,\"ValueError: integer is needed \"\n",
    "        self.n=n\n",
    "    def square_grid_pat_1(self):\n",
    "        for i in range(self.n): # Using for loop to iterate from 0 to n-1\n",
    "            print('* '*self.n) #Printing row of asteriks '*' multiplied by the value n\n",
    "    def square_grid_num_pat_2(self):\n",
    "        for i in range(1,self.n+1): # loop for n number of rows\n",
    "            for j in range(1,self.n+1): # loop for n number of columns\n",
    "                print(i,end=' ') # printing the i value and all the elements in a row are seperated with space\n",
    "            print() # An empty print() method for next line\n",
    "    def square_grid_num_pat_3(self):\n",
    "        for i in range(1,self.n+1): ## loop for n number of rows within the range\n",
    "            for j in range(1,self.n+1): # loop for n number of columns within the range\n",
    "                print(j, end = ' ') # printing the j value and all the elements in a column are separated with space\n",
    "            print() # An empty print() method for next line\n",
    "    def square_grid_alpha_pat_4(self):\n",
    "        for i in range(0,self.n):# loop for n number of rows which will run from 0 to n\n",
    "            for j in range(self.n): #loop for n number of columns which will run for n number of times\n",
    "                print(chr(65+i),end=\" \")# printing the alphabet using chr() by adding i to 65('A') and all the elements in a row are seperated with spaces\n",
    "            print()# An empty print() for next line\n",
    "    def square_grid_alpha_pat_5(self):\n",
    "        for i in range(self.n): # Outer loop iterating from 0 to n-1\n",
    "            for j in range(self.n): # Inner loop iterating from 0 to n-1\n",
    "                print(chr(65+j),end=' ') # Printing the uppercase letter corresponding to the ASCII value (65 corresponds to 'A')\n",
    "            print() # Moving to the next line after each inner loop completes\n",
    "    def square_grid_num_pat_6(self):\n",
    "        for i in range(self.n,0,-1): # loop for n number of rows\n",
    "            for j in range(self.n,0,-1): #loop for n number of columns\n",
    "                print(i,end=' ') # printing i value\n",
    "            print() # An empty print() method for next line\n",
    "    def square_grid_num_pat_7(self):\n",
    "        for i in range(self.n,0,-1):  ## loop for n number of rows within the range\n",
    "            for j in range(self.n,0,-1): # loop for n number of columns within the range\n",
    "                print(j, end = ' ')  # printing the j value and all the elements in a column are separated with space\n",
    "            print() # An empty print() method for next line\n",
    "    def square_grid_alpha_pat_8(self):\n",
    "        for i in range(65+self.n-1,64,-1): #Outer loop to iterate through each line, starting feom the ASCII value of 'A'+n-1 and going backward\n",
    "            for j in range(self.n): #Inner loop to print the character in each line\n",
    "                print(chr(i),end=\" \") #Printing the character corresponding to the ASCII value of i\n",
    "            print()#Moving to the next line after completing the inner loop\n",
    "    def square_grid_alpha_pat_9(self):\n",
    "        for i in range(self.n): # Outer loop iterating from 0 to n-1\n",
    "            for j in range(self.n): # Inner loop iterating from 0 to n-1\n",
    "                print(chr(64+self.n-j),end=' ') # Printing the uppercase letter corresponding to the ASCII value (64 + n - j)\n",
    "            print() # Moving to the next line after each inner loop completes\n",
    "    def increasing_triangular_pat_10(self):\n",
    "        for i in range(1,self.n+1): # loop for n number of rows\n",
    "            for j in range(1,i+1): #loop for i number of columns for each row\n",
    "                print('*',end=' ') # printing * seperated by space\n",
    "            print() # # An empty print() method for next line\n",
    "    def increasing_triangular_num_pat_11(self):\n",
    "        for i in range(1,self.n+1): #loop for number of rows\n",
    "            for j in range(i): #loop for number of columns\n",
    "                print(i, end = ' ') # printing the i value and all the elements in a row are separated with space\n",
    "            print() # An empty print() method for next line\n",
    "    def increasing_triangular_num_pat_12(self):\n",
    "        for i in range(1,self.n+1): #Outer loop to iterate through each line, starting from 1  upto n\n",
    "            for j in range(i): #Inner loop to print numbers in each line\n",
    "                print(j+1,end=\" \")#Printing the value of k+j with a space after it\n",
    "            print()#Moving to the next line after completing the inner loop\n",
    "    def increasing_triangular_alpha_pat_13(self):\n",
    "        for i in range(1,self.n+1): # Outer loop iterating from 0 to n-1\n",
    "            for j in range(1,i+1): # Inner loop iterating from 0 to i (inclusive)\n",
    "                print(chr(64+i),end=' ') # Printing the uppercase letter corresponding to the ASCII value (65 + i)\n",
    "            print() # Moving to the next line after each inner loop completes\n",
    "    def increasing_triangular_alpha_pat_14(self):\n",
    "        for i in range(1,self.n+1): # loop for n number of rows\n",
    "            for j in range(1,i+1): # loop for i number of columns for each row\n",
    "                print(chr(64+j),end=' ') # printing alphabet pattern\n",
    "            print() # An empty print() method for next line\n",
    "    def decreasing_triangular_pat_15(self):\n",
    "        for i in range(self.n,0,-1): #loop for printing number of rows in a given range\n",
    "            for j in range(i): #loop for printing number of columns in a given range\n",
    "                print('*',end = ' ') # printing aestric and are separated with space\n",
    "            print() # An empty print() method for next line\n",
    "    def decreasing_triangular_num_pat_16(self):\n",
    "        for i in range(1,self.n):#Outer loop to iterate through each line, starting from 1 up to n-1\n",
    "            for j in range(self.n-i):#Inner loop to print numbers in each line, starting from the current value of it and going upto n-1\n",
    "                print(i,end=\" \") #Printing the value of i with a space after it\n",
    "            print()#Moving to the next line after completing the inner loop\n",
    "    def decreasing_triangular_num_pat_17(self):\n",
    "        for i in range(self.n): # Outer loop iterating from 0 to n-1\n",
    "            for j in range(self.n-i): # Inner loop iterating from 0 to n-i-1\n",
    "                print(j+1,end=' ') # Printing the current value of j+1\n",
    "            print()  # Moving to the next line after each inner loop completes\n",
    "    def decreasing_triangular_alpha_pat_18(self):\n",
    "        c=0\n",
    "        for i in range(self.n,0,-1): # loop for n number of rows\n",
    "            for j in range(i): # loop for i number of columns\n",
    "                print(chr(65+c),end=' ') # Printing alphabet pattern\n",
    "            c+=1\n",
    "            print() # An empty print() method for next line\n",
    "    def decreasing_triangular_alpha_pat_19(self):\n",
    "        for i in range(self.n,0,-1): #loop for printing number of rows in a given range\n",
    "            for j in range(i): #loop for printing number of columns in a given range\n",
    "                print(chr(65+j), end = ' ') #printing character by assigning ASCII value of A using chr(65) and incrementing its columns\n",
    "            print() # An empty print() method for next line\n",
    "    def decreasing_triangular_num_pat_20(self):\n",
    "        for i in range(self.n,0,-1):#Outer loop to iterate through each line, starting from n and going down to 1\n",
    "            for j in range(i):#Inner loop to print numbers in each line, starting from the current value of i\n",
    "                print(i,end=\" \") #Printing the value of i with a space after it\n",
    "            print()#Moving to the next line after completing the inner loop\n",
    "    def decreasing_triangular_num_pat_21(self):\n",
    "        c=self.n # Initializing a constant value c with value of n\n",
    "        for i in range(self.n,0,-1): # Outer loop iterating from n to 1 with a step of -1\n",
    "            for j in range(i): # Inner loop iterating from 0 to i-1\n",
    "                print(c-j,end=' ') # Printing the current value of c - j\n",
    "            print() # Moving to the next line after each inner loop completes\n",
    "    def decreasing_triangular_alpha_pat_22(self):\n",
    "        for i in range(self.n,0,-1): # loop for n number of rows\n",
    "            for j in range(i): # loop for i number of columns\n",
    "                print(chr(65+i-1),end=' ') # printing alphabet pattern seperated by space\n",
    "            print() # An empty print() for next line\n",
    "    def decreasing_triangular_alpha_pat_23(self):\n",
    "        for i in range(self.n,-1,-1): #loop for number of rows in the given range\n",
    "            for j in range(i+1): #loop for number of columns in the given range\n",
    "                print(chr(65+self.n-j), end = ' ') #printing character by assigning ASCII value of E using chr(65+n-j) and decrementing its columns\n",
    "            print()# An empty print() method for next line\n",
    "    def right_aligned_triangular_pat_24(self):\n",
    "        for i in range(0,self.n+1): #Outer loop to iterate through each line, starting from 0 upto n\n",
    "            for j in range(self.n-i):#Inner loop to print spaces before stars in each line, starting from n-1\n",
    "                print(\" \",end=\" \") # Which will print spaces\n",
    "            for j in range(i): #Inner loop to print stars in each line, starting from 0 upto i\n",
    "                print(\"*\",end=\" \") #which will print stars\n",
    "            print()#Moving to the next line after completing the inner loop\n",
    "    def right_aligned_triangular_num_pat_25(self):\n",
    "        for i in range(self.n+1): # Outer loop iterating from 0 to n (inclusive)\n",
    "            for j in range(self.n-i): # Inner loop to print spaces before the numbers\n",
    "                print(\" \",end=' ')\n",
    "            for k in range(i): # Inner loop to print numbers with increasing values\n",
    "                print(i,end=' ')\n",
    "            print()  # Moving to the next line after each row completes\n",
    "    def right_aligned_triangular_num_pat_26(self):\n",
    "        for i in range(1,self.n+1):  # loop for n number of rows\n",
    "            for k in range(self.n-i): # loop for n-i spaces in each row\n",
    "                print(\" \",end=' ') # printing n-i spaces\n",
    "            for j in range(1,i+1): # loop for i number of columns\n",
    "                print(j,end=' ') # printing j value\n",
    "            print() # An empty print() method for next line \n",
    "    def right_aligned_triangular_alpha_pat_27(self):\n",
    "        for i in range(self.n): #loop for number of columns\n",
    "            for k in range(self.n-i): #loop for printing spaces\n",
    "                print(\" \",end=' ') #printing spaces\n",
    "            for j in range(i+1): #loop for number of columns\n",
    "                print(chr(65+i), end = ' ') #printing character by assigning ASCII value of A using chr(65) and incrementing its rows\n",
    "            print() #move to the next line after printing spaces and characters for each row\n",
    "    def right_aligned_triangular_alpha_pat_28(self):\n",
    "        for i in range(0,self.n+1): #Outer loop to iterate through each line, starting from 0 upto n\n",
    "            for j in range(self.n-i): #Inner loop to print spaces before the charecters in each line, starting from n-i\n",
    "                print(\" \",end=\" \")\n",
    "            for j in range(65,65+i):#Inner loop to print characters in each line, starting from 'A' upto 'A'+i-1\n",
    "                print(chr(j),end=\" \")\n",
    "            print() #Moving to the next line after completing the inner loops\n",
    "    def right_aligned_decreasing_triangular_pat_29(self):\n",
    "        for i in range(self.n): # Outer loop iterating from 0 to n-1\n",
    "            for j in range(i): # Inner loop to print spaces before the asterisks\n",
    "                print(\" \",end=' ')\n",
    "            for k in range(self.n-i): # Inner loop to print asterisks\n",
    "                print('*',end=' ')\n",
    "            print() # Moving to the next line after each row completes\n",
    "    def right_aligned_decreasing_triangular_num_pat_30(self):\n",
    "        for i in range(self.n,0,-1): # loop for n number of rows\n",
    "            for k in range(self.n-i): # loop for n-i spaces in each row\n",
    "                print(\" \",end=' ') # printing n-i spaces\n",
    "            for j in range(i): # loop for i number of columns\n",
    "                print(i,end=' ') # printing i value -i times seperated by space\n",
    "            print() # An empty print() for next line\n",
    "    def right_aligned_decreasing_triangular_num_pat_31(self):\n",
    "        for i in range(self.n,0,-1): #loop for number of rows in the given range\n",
    "            for k in range(self.n-i): #loop for printing spaces\n",
    "                print(\" \",end=' ') #printing spaces\n",
    "            for j in range(i): #loop for number of columns in the given range\n",
    "                print(j+1, end = ' ') #printing the value of j+1 without a newline character\n",
    "            print() #move to the next line after printing spaces and characters for each row\n",
    "    def right_aligned_decreasing_triangular_alpha_pat_32(self):\n",
    "        for i in range(self.n,0,-1):# Outer loop to iterate through each line, starting from n and going down to 1\n",
    "            for j in range(self.n-i+1):# Inner loop to print spaces before the characters in each line, starting from n-i+1\n",
    "                print(\" \",end=' ')\n",
    "            m=65# Initializing m to the ASCII value of 'A'\n",
    "            for k in range(65,65+i):# Inner loop to print characters in each line, starting from 'A' up to 'A'+i-1\n",
    "                print(chr(m+i-1),end=' ')\n",
    "            m+=1# Incrementing m for next character\n",
    "            print()# Moving to the next line after completing the inner loops\n",
    "    def right_aligned_decreasing_triangular_alpha_pat_33(self):\n",
    "        for i in range(self.n,0,-1): # Outer loop iterating from n to 1 with a step of -1\n",
    "            for j in range(self.n-i): # Inner loop to print spaces before the letters\n",
    "                print(\" \",end=' ') #printing spaces\n",
    "            for k in range(i):  # Inner loop to print letters with increasing values\n",
    "                print(chr(65+k),end=' ') # printing alphabetic pattern\n",
    "            print() # Moving to the next line after each row completes\n",
    "    def increasing_triangular_pat_34(self):\n",
    "        for i in range(1,self.n+1): # loop for n number of rows\n",
    "            for k in range(self.n-i): # looop for n-i spaces in each row\n",
    "                print(\" \",end='') # printing n-i spaces\n",
    "            for j in range(1,i+1): # loop for i number of columns in each row\n",
    "                print(\"*\",end=' ') # printing * seperated by space\n",
    "            print() # an empty print() for next line\n",
    "    def increasing_triangular_num_pat_35(self):\n",
    "        for i in range(1,self.n+1): # loop for number of rows in the given range starting from 1 and incrementing it using n+1\n",
    "            for k in range(self.n-i): #loop for printing spaces\n",
    "                print(\" \",end=' ') #print spaces\n",
    "            for j in range(i*2-1): #loop for the number of columns in the given range\n",
    "                print(i, end = ' ') #printing the value of i and seperating it using spaces\n",
    "            print() #print method to next line\n",
    "    def increasing_triangular_num_pat_36(self):\n",
    "        k=1# Initializing k to 1\n",
    "        for i in range(1,self.n//2+2):# Outer loop to iterate through each line, starting from 1 up to n//2+1\n",
    "            for j in range(self.n-i):# Inner loop to print spaces before the numbers in each line, starting from n-i\n",
    "                print(\" \",end=\" \")\n",
    "            for j in range(2*i-1):# Inner loop to print numbers in each line, starting from 1 up to 2*i-1\n",
    "                print(k,end=\" \")\n",
    "            k+=2\n",
    "            print()# Moving to the next line after completing the inner loops\n",
    "    def increasing_triangular_alpha_pat_37(self):\n",
    "        for i in range(0,self.n): # Outer loop iterating from 0 to n-1\n",
    "            for j in range(self.n-i):  # Inner loop to print spaces before the letters\n",
    "                print(\" \",end=' ')\n",
    "            for k in range(i*2+1): # Inner loop to print letters with increasing values\n",
    "                print(chr(65+i),end=' ')\n",
    "            print()  # Moving to the next line after each row completes\n",
    "    def increasing_triangular_alpha_pat_38(self):\n",
    "        x=0 # initializing x with 0\n",
    "        for i in range(self.n//2): # loop for n/2 rows\n",
    "            for k in range(self.n-i): # loop for n-i spaces in each row\n",
    "                print(\" \",end=' ') # printing n-i spaces\n",
    "            for j in range(i*2+1): # loop for i*2+1 columns\n",
    "                print(chr(65+x),end=' ') # printing alphabet pattern seperated by space\n",
    "            x+=2 # incrementing x value\n",
    "            print() # an empty print() for next line\n",
    "    def increasing_triangular_num_pat_39(self):\n",
    "        for i in range(1,self.n//2+1): #loop for number of rows in the range\n",
    "            for k in range(self.n-i): #loop for printing spaces\n",
    "                print(\" \",end=' ') #printing spaces\n",
    "            for j in range(1,i*2): #loop for numberof columns in the range\n",
    "                print(j, end = ' ') #printing the value of j and seperating with spaces\n",
    "            print() #Print method to move to other line\n",
    "    def increasing_triangular_num_pat_40(self):\n",
    "        for i in range(1,self.n//2+2):# Outer loop to iterate through each line, starting from 1 up to n//2+2\n",
    "            for j in range(self.n-i-self.n//2):# Inner loop to print spaces before the numbers in each line, starting from n-i-n//2\n",
    "                print(\" \",end=\" \")\n",
    "            for k in range(2*i-1,0,-1):# Inner loop to print numbers in each line, starting from 2*i-1 and going down to 1\n",
    "                print(k,end=\" \")\n",
    "            print() # Moving to the next line after completing the inner loops\n",
    "    def increasing_triangular_alpha_pat_41(self):\n",
    "        for i in range(0,self.n//2+1): # Outer loop iterating from 0 to n//2 (inclusive)\n",
    "            for j in range(self.n-i-self.n//2): # Inner loop to print spaces before the letters\n",
    "                print(\" \",end=' ')\n",
    "            for k in range(i*2+1): # Inner loop to print letters with increasing values\n",
    "                print(chr(65+k),end=' ')\n",
    "            print() # Moving to the next line after each row completes\n",
    "    def increasing_triangular_alpha_pat_42(self):\n",
    "        x=0 # initializing x with 0\n",
    "        for i in range(self.n//2+1): # loop for n/2 rows\n",
    "            for k in range(self.n-i): # loop for n-i spaces in each row\n",
    "                print(\" \",end=' ') # printing n-i spaces\n",
    "            for j in range(i*2+1): # loop for i*2+1 columns\n",
    "                print(chr(65+x-j),end=' ') # printing alphabet pattern seperated by space\n",
    "            x+=2 # incrementing x value\n",
    "            print() #an empty print() for next line\n",
    "    def increasing_triangular_num_pat_43(self):\n",
    "        for i in range(0,self.n+1): #loop for the number of rows\n",
    "            for k in range(self.n-i): #loop for printing spaces before numbers\n",
    "                print(\" \",end=' ') #printing spaces\n",
    "            for j in range(i,-1,-1): #loop for printing numbers in decreasing order\n",
    "                print(j, end = ' ') #Print the current value of j separated using spaces\n",
    "            for m in range(1,i+1): #loop for printing numbers in increasing order\n",
    "                print(m, end=' ') # Print the current value of m\n",
    "            print() #Move to the next line\n",
    "    def increasing_triangular_alpha_pat_44(self):\n",
    "        for i in range(1,self.n+1): # Outer loop to iterate through each line, starting from 1 up to n\n",
    "            for j in range(self.n-i): # Inner loop to print spaces before the characters in each line, starting from n-i\n",
    "                print(\" \",end=\" \")\n",
    "            for k in range(i,0,-1): # First inner loop to print characters in descending order, starting from 'A'+i and going down to 'A'+1\n",
    "                print(chr(64+k),end=\" \")\n",
    "            for m in range(1,i):# Second inner loop to print characters in ascending order, starting from 'A'+1 and going up to 'A'+i-1\n",
    "                print(chr(65+m),end=\" \")\n",
    "            print()# Moving to the next line after completing the inner loops\n",
    "    def increasing_triangular_num_pat_45(self):\n",
    "        for i in range(1,self.n+1): # Outer loop iterating from 1 to n (inclusive)\n",
    "            for j in range(self.n-i): # Inner loop to print spaces before the numbers\n",
    "                print(\" \",end=' ')\n",
    "            for k in range(1,i+1): # Inner loop to print numbers in increasing order\n",
    "                print(k,end=' ')\n",
    "            for l in range(i-1,0,-1): # Inner loop to print numbers in decreasing order (excluding the last number in the row)\n",
    "                print(l,end=' ')\n",
    "            print()\n",
    "    def increasing_triangular_alpha_pat_46(self):\n",
    "        x=0 # initializing x with 0\n",
    "        for i in range(self.n+1): # loop for n rows\n",
    "            for k in range(self.n-i): # loop for n-i spaces in each row\n",
    "                print(\" \",end=' ') # printing n-i spaces\n",
    "            for j in range(i): # loop for i number of columns\n",
    "                print(chr(65+j),end=' ') # printing alphabet pattern seperated by space\n",
    "            for m in range(i-1,0,-1): # loop for i-1 columns\n",
    "                print(chr(65+m-1),end=' ') # printing alphabet pattern seperated by space\n",
    "            print() #an empty print() for next line\n",
    "    def left_aligned_decreasing_triangular_pat_47(self):\n",
    "        for i in range(self.n//2,-1,-1): #loop for the number of rows in reverse order\n",
    "            for k in range(self.n-i): #loop for printing spaces before asterisks\n",
    "                print(\" \",end=' ') #printing spaces\n",
    "            for j in range(i+1): #loop for printing asterisks in increasing order\n",
    "                print('*',end = ' ') #asterisk\n",
    "            for m in range(i): #loop for printing asterisks in decreasing order\n",
    "                print('*',end=' ') #Print asterisk\n",
    "            print() #Move to the next line\n",
    "    def left_aligned_decreasing_triangular_num_pat_48(self):\n",
    "        m=2 # Initializing m to 2\n",
    "        for i in range(self.n-1,0,-1): # Outer loop to iterate through each line, starting from n-1 and going down to 1\n",
    "            for j in range(self.n-i): # Inner loop to print spaces before the numbers in each line, starting from n-i\n",
    "                print(\" \",end=\" \")\n",
    "            for j in range(self.n+i-m): # Second inner loop to print numbers in each line, starting from n+i-m and going down to n\n",
    "                print(i,end=\" \")\n",
    "            m+=1 # Incrementing m by 1\n",
    "            print() # Moving to the next line after completing the inner loops\n",
    "    def left_aligned_decreasing_triangular_num_pat_49(self):\n",
    "        for i in range(self.n,0,-2): # Outer loop iterating from n to 1 with a step of -2\n",
    "            for j in range(self.n-i//2-self.n//2+1): # Inner loop to print spaces before the numbers\n",
    "                print(\" \",end=' ')\n",
    "            for k in range(i): # Inner loop to print numbers with the value of i\n",
    "                print(i,end=' ')\n",
    "            print()  # Moving to the next line after each row completes\n",
    "    def inverted_pyramid_num_pat_50(self):\n",
    "        for i in range(self.n//2+1,0,-1): # loop for n/2+1 rows\n",
    "            for k in range(self.n-i): # loop for n-i spaces in each row\n",
    "                print(\" \",end=' ') # printing n-i spaces\n",
    "            for j in range(1,i*2): # loop for i*2 columns\n",
    "                print(j,end=' ') # printing j value seperated by space\n",
    "            print() #an empty print() for next line\n",
    "    def inverted_pyramid_alpha_pat_51(self):\n",
    "        for i in range(self.n-1,-1,-1): #loop for the number of rows in reverse order\n",
    "            for k in range(self.n-i): #loop for printing spaces before characters\n",
    "                print(\" \",end=' ') #printing spaces\n",
    "            for j in range(i*2+1): #loop for the number of columns, based on the current row\n",
    "                print(chr(65+i), end = ' ') #Print character by assigning ASCII value of A plus the row number\n",
    "            print() # Move to the next line\n",
    "    def inverted_pyramid_alpha_pat_52(self):\n",
    "        k = 65+self.n*2-2 # Initializing k to the ASCII value of 'A' + n*2 - 2\n",
    "        m=1 # Initializing m to 1\n",
    "        for i in range(self.n, 0, -1): # Loop to iterate through each line, starting from n and going down to 1\n",
    "            for j in range(self.n-i+1): # First inner loop to print spaces before the characters in each line, starting from n-i+1\n",
    "                print(\" \", end=\" \")\n",
    "            for j in range(self.n+i-m): # Second inner loop to print characters in each line, starting from the current ASCII value of k and going up to n+i-m\n",
    "                print(chr(k), end=\" \")\n",
    "            m+=1\n",
    "            k-=2\n",
    "            print() # Moving to the next line after completing the inner loops\n",
    "    def inverted_pyramid_alpha_pat_53(self):\n",
    "        m=0 # Initializing a variable m with value 0\n",
    "        for i in range(self.n//2+1,0,-1): # Loop iterating from n//2 + 1 to 1 with a step of -1\n",
    "            print(' '*(m),end=' ') # Printing spaces before the letters based on the value of m\n",
    "            for j in range(i*2-1):  # Inner loop to print letters in increasing order\n",
    "                print(chr(65+j),end=' ') # Incrementing the value of m by 2 for the next row\n",
    "            m+=2\n",
    "            print()  # Moving to the next line after each row completes\n",
    "    def alternating_triangular_pat_54(self):\n",
    "        for i in range(self.n): # loop for n number of rows\n",
    "            for j in range(i): # loop for i number of columns\n",
    "                print(\"*\",end=' ') # printing j number of *'s seperated by space\n",
    "            print() #an empty print() for next line\n",
    "        for i in range(self.n,0,-1): # loop for n-1 number of rows\n",
    "            for k in range(i): # loop for i number of columns\n",
    "                print(\"*\",end=' ') # printing k number of *'s seperated by space\n",
    "            print() #an empty print() for next line\n",
    "    def alternating_triangular_num_pat_55(self):\n",
    "        for i in range(self.n): #loop for numbers of rows\n",
    "            for j in range(i+1):  #loop for numbers of columns\n",
    "                print(self.n-j,end=' ') #Print decreasing numbers based on the current column\n",
    "            print() # Empty print method to move to next line\n",
    "        for i in range(self.n,-1,-1): #loop for the number of rows in reverse order\n",
    "            for k in range(i+1): #loop for the number of columns\n",
    "                print(self.n-k,end=' ') #Print decreasing numbers based on the current column\n",
    "            print() # Empty print method to move to next line\n",
    "    def alternating_triangular_num_pat_56(self):\n",
    "        # First part of the pattern: Increasing order\n",
    "        for i in range(self.n): # Outer loop to iterate through each line from 0 to n-1\n",
    "            for j in range(i,-1,-1): # Inner loop to print numbers in decreasing order from n to n-j\n",
    "                print(self.n-j,end=' ')\n",
    "            print() # Moving to the next line after completing the inner loop\n",
    "        # Second part of the pattern: Decreasing order\n",
    "        for i in range(self.n,-1,-1):  # Outer loop to iterate through each line from n to 0\n",
    "            for j in range(i,-1,-1): # Inner loop to print numbers in decreasing order from n to n-j\n",
    "                print(self.n-j,end=' ')\n",
    "            print() # Moving to the next line after completing the inner loop\n",
    "    def alternating_triangular_alpha_pat_57(self):\n",
    "        for i in range(self.n): #loop for numbers of rows\n",
    "            for j in range(i+1):  #loop for numbers of columns\n",
    "                print(chr(65+self.n-j),end=' ') #Print alphabetic pattern\n",
    "            print() # Empty print method to move to next line\n",
    "        for i in range(self.n,-1,-1): #loop for the number of rows in reverse order\n",
    "            for k in range(i+1): #loop for the number of columns\n",
    "                print(chr(65+self.n-k),end=' ') #Print alphabetic pattern\n",
    "            print() # Empty print method to move to next line\n",
    "    def alternating_triangular_alpha_pat_58(self):\n",
    "        for i in range(self.n): # loop for n number of rows\n",
    "            for j in range(i,-1,-1): # loop for i number of columns\n",
    "                print(chr(65+self.n-j),end=' ') #Printing alphabet pattern seperated by space\n",
    "            print() #an empty print() for next line\n",
    "        for i in range(self.n,-1,-1): # loop for n number of rows\n",
    "            for j in range(i,-1,-1): # loop for i number of columns\n",
    "                print(chr(65+self.n-j),end=' ') #Printing alphabet pattern seperated by space\n",
    "            print() #an empty print() for next line\n",
    "    def left_pascal_triangle_pat_59(self):\n",
    "        for i in range(1,self.n+1):# loop for number of rows in the range\n",
    "            for j in range(self.n,i,-1): # loop for number of columns in the range\n",
    "                print(\" \",end=' ') #Print spaces\n",
    "            for k in range(1,i+1): #loop for asterisks in the range\n",
    "                print(\"*\", end=' ') #print asteriss separated with spaces\n",
    "            print() #an empty print() for next line\n",
    "        for i in range(self.n-1,0,-1): # loop for number of rows in the range\n",
    "            for j in range(self.n,i,-1): # loop for number of columns in the range\n",
    "                print(\" \",end = ' ')#Print spaces\n",
    "            for k in range(1,i+1): #loop for number of asterisks in the range\n",
    "                print(\"*\",end=' ') #Print asterisks separated with spaces\n",
    "            print() #an empty print() for next line\n",
    "    def left_pascal_triangle_num_pat_60(self):\n",
    "        # First part of the pattern: Increasing order\n",
    "        for i in range(self.n): #loop for n number of rows\n",
    "            for j in range(self.n-i): # First inner loop to print spaces before the numbers in each line, starting from n-i\n",
    "                print(\" \",end=\" \")\n",
    "            for j in range(i+1): # Second inner loop to print numbers in decreasing order\n",
    "                print(self.n-j,end=\" \")\n",
    "            print()  # Moving to the next line after completing the inner loops\n",
    "        # Second part of the pattern: Decreasing order\n",
    "        for i in range(self.n,-1,-1):\n",
    "            for j in range(self.n-i): # First inner loop to print spaces before the numbers in each line, starting from n-i\n",
    "                print(\" \",end=\" \")\n",
    "            for k in range(i+1):# Second inner loop to print numbers in decreasing order\n",
    "                print(self.n-k,end=' ')\n",
    "            print()\n",
    "    def left_pascal_triangle_num_pat_61(self):\n",
    "        # First part of the pattern\n",
    "        for i in range(self.n): #Loop for no.of rowa\n",
    "            x=0\n",
    "            for j in range(self.n-i):  # Printing spaces before the numbers\n",
    "                print(\" \",end=' ')\n",
    "                x+=1\n",
    "            for k in range(i+1): # Printing numbers in increasing order\n",
    "                print(x,end=' ')\n",
    "                x+=1\n",
    "            print() # Moving to the next line after each row completes\n",
    "        # Second part of the pattern\n",
    "        for i in range(self.n,-1,-1): #Loop for no.of rows\n",
    "            x=0\n",
    "            for j in range(self.n-i):  # Printing spaces before the numbers\n",
    "                print(\" \",end=' ')\n",
    "                x+=1\n",
    "            for k in range(i+1): # Printing numbers in increasing order\n",
    "                print(x,end=' ')\n",
    "                x+=1\n",
    "            print()# Moving to the next line after each row completes\n",
    "    def left_pascal_triangle_alpha_pat_62(self):\n",
    "        for i in range(self.n):  # loop for n number of rows\n",
    "            x=0  # initializing x with 0\n",
    "            for j in range(self.n-i): # loop for n -i number of spaces in each row\n",
    "                print(\" \",end=' ')# printing n-i spaces\n",
    "                x+=1 # incrementing x value\n",
    "            for k in range(i):  # loop for i number of columns\n",
    "                print(chr(ord('A')+x),end=' ') # printing alphabetical pattern seperated by space\n",
    "                x+=1 # incrementing x value\n",
    "            print() #an empty print() for next line\n",
    "        for i in range(self.n,0,-1):  # loop for n number of rows\n",
    "            x=0 #initializing x with 0\n",
    "            for j in range(self.n-i): # loop for n -i number of spaces in each row\n",
    "                print(\" \",end=' ') # printing n-i spaces\n",
    "                x+=1 # incrementing x value\n",
    "            for k in range(i):  # loop for i number of columns\n",
    "                print(chr(ord('A')+x),end=' ') # printing alphabetical pattern seperated by space\n",
    "                x+=1 # incrementing x value\n",
    "            print()  #an empty print() for next line\n",
    "    def left_pascal_triangle_alpha_pat_63(self):\n",
    "        for i in range(self.n): # loop for number of rows\n",
    "            for j in range(self.n-i): # loop for number of columns\n",
    "                print(\" \", end=' ') #printing spaces\n",
    "            for k in range(i+1): #Print characters in decreasing order\n",
    "                print(chr(65+self.n-k), end=' ') #printing characters\n",
    "            print() #an empty print() for next line\n",
    "        for i in range(self.n,- 1,-1): # loop for number of rows\n",
    "            for j in range(self.n-i): # loop for number of columns\n",
    "                print(\" \", end=' ') #printing spaces\n",
    "            for k in range(i+1): #Print characters in decreasing order\n",
    "                print(chr(65+self.n-k), end=' ') #printing characters\n",
    "            print() #an empty print() for next line\n",
    "    def increasing_triangular_pat_64(self):\n",
    "        for i in range(0,self.n+1): #Outer loop for no.of rows which will run from 0 to n+1\n",
    "            for j in range(self.n-i): # First inner loop to print spaces before the asterisks in each line, starting from 0\n",
    "                print(\" \",end=\"\")\n",
    "            for j in range(1,i+1):# Second inner loop to print asterisks in increasing order, starting from 1 up to i\n",
    "                print(\"*\",end=\" \")\n",
    "            print()\n",
    "    def increasing_triangular_num_pat_65(self):\n",
    "        for i in range(0,self.n+1): #Outer loop for no.of rows which will run from 0 to n+1\n",
    "            for j in range(self.n-i): # First inner loop to print spaces before the asterisks in each line, starting from 0\n",
    "                print(\" \",end=\"\")\n",
    "            for j in range(1,i+1):# Second inner loop to print asterisks in increasing order, starting from 1 up to i\n",
    "                print(i,end=\" \")\n",
    "            print()\n",
    "    def increasing_triangular_num_pat_66(self):\n",
    "        for i in range(1,self.n+1): # loop for n number of rows\n",
    "            for j in range(self.n-i): # loop for n-i number of spaces in each row\n",
    "                print(\" \",end='') # printing n-i spaces\n",
    "            for k in range(1,i+1): # loop for i number of columns\n",
    "                print(k,end=' ') # printing k value seperated by space\n",
    "            print()  #an empty print() for next line\n",
    "    def increasing_triangular_alpha_pat_67(self):\n",
    "        for i in range(self.n): # Loop for each row\n",
    "            for j in range(self.n-i-1):# Loop for each column\n",
    "                print(\" \", end='') # Print spaces before characters\n",
    "            for k in range(i+1):  # Print characters in increasing order\n",
    "                print(chr(ord('A')+i), end=' ')\n",
    "            print() # Move to the next line after printing each row\n",
    "    def increasing_triangular_alpha_pat_68(self):\n",
    "        for i in range(0,self.n+1): # Loop to print a pattern of characters in a pyramid\n",
    "            for j in range(self.n-i): # First inner loop to print spaces before the characters in each line, starting from n-i\n",
    "                print(\" \",end='')\n",
    "            for k in range(1,i+1): # Second inner loop to print characters in increasing order, starting from 'A' up to 'A+k' where k is the current value of i\n",
    "                print(chr(64+k),end=' ')\n",
    "            print() # Moving to the next line after completing the inner loops\n",
    "    def decreasing_triangular_pat_69(self):\n",
    "        for i in range(self.n,0,-1): # Loop to iterate through rows in reverse order\n",
    "            for j in range(0,self.n-i): # Loop to add leading spaces for formatting\n",
    "                print(end=' ')\n",
    "            for k in range(0,i): # Loop to print asterisks for the current row\n",
    "                print('*',end=\" \")\n",
    "            print()# Move to the next line after completing the row\n",
    "    def decreasing_triangular_num_pat_70(self):\n",
    "        for i in range(self.n,-1,-1): # loop for n number of rows\n",
    "            for j in range(self.n-i): # loop for n-i number of spaces in each row\n",
    "                print(\" \",end='') # printing n-i spaces\n",
    "            for k in range(i): # loop for i number of columns\n",
    "                print(i,end=' ') # printing i value - k times\n",
    "            print() #an empty print() for next line\n",
    "    def decreasing_triangular_num_pat_71(self):\n",
    "        for i in range(self.n,0,-1): # Loop for each row\n",
    "            for j in range(self.n-i):# Loop for each column\n",
    "                print(\" \",end='') #print spaces\n",
    "            for k in range(i,0,-1): #loop for printing numbers in decreasing order\n",
    "                print(k, end = ' ')\n",
    "            print() # Move to the next line after printing each row\n",
    "    def decreasing_triangular_alpha_pat_72(self):\n",
    "        for i in range(self.n,0,-1): # Loop to print a pattern of characters in a descending order pyramid\n",
    "            for j in range(self.n-i+1): # First inner loop to print spaces before the characters in each line, starting from n-i+1\n",
    "                print(\" \",end='')\n",
    "            for k in range(0,i): # Second inner loop to print characters in decreasing order, all being the same character 'A'+i\n",
    "                print(chr(64+i),end=' ')\n",
    "            print() # Moving to the next line after completing the inner loops\n",
    "    def decreasing_triangular_alpha_pat_73(self):\n",
    "        for i in range(self.n,0,-1): # Loop to iterate through rows in reverse order\n",
    "            for j in range(self.n-i+1): # Loop to add leading spaces for formatting\n",
    "                print(\" \",end='')\n",
    "            for k in range(0,i):  # Loop to print uppercase letters for the current row\n",
    "                print(chr(64+i-k),end=' ')\n",
    "            print() # Move to the next line after completing the row\n",
    "    def decreasing_triangular_alpha_pat_74(self):\n",
    "        for i in range(self.n,0,-1): # loop for n number of rows\n",
    "            for j in range(self.n-i): # loop for n-i number of spaces row\n",
    "                print(\" \",end='') # printing n-i spaces\n",
    "            for k in range(i): # loop for i number of columns\n",
    "                print(chr(65+k),end=' ') # printing alphabets pattern seperated by space\n",
    "            print() #an empty print() for next line\n",
    "    def diamond_pat_75(self):\n",
    "        for i in range(self.n): #loop for number of rows\n",
    "            print(\" \" * (self.n-i), end=\" \") #printing Aestric\n",
    "            for j in range(0, i+1):# loop for number of columns\n",
    "                print(\"*\", end=\" \")\n",
    "            print() # Move to the next line after printing each row\n",
    "        for i in range(self.n-1,0,-1): #loop for number of rows for the second half\n",
    "            print(\" \" * (self.n-i+1), end=\" \")\n",
    "            for j in range(i): #loop for the number of columns for the second half\n",
    "                print(\"*\", end=\" \")  #printing Aestric\n",
    "            print() # Move to the next line after printing each row\n",
    "    def diamond_num_pat_76(self):\n",
    "        # First part of the pattern: Increasing order\n",
    "        for i in range(0,self.n):\n",
    "            for j in range(self.n-i): # First inner loop to print spaces before the numbers in each line, starting from n-i\n",
    "                print(' ',end='')\n",
    "            for k in range(1,i+1): # Second inner loop to print numbers in increasing order, all being the same value 'i'\n",
    "                print(i,end=' ')\n",
    "            print() # Moving to the next line after completing the inner loops\n",
    "        # Second part of the pattern: Decreasing order\n",
    "        for i in range(self.n,0,-1):\n",
    "            for j in range(self.n-i): # First inner loop to print spaces before the numbers in each line, starting from n-i\n",
    "                print(\" \",end='')\n",
    "            for k in range(1,i+1):# Second inner loop to print numbers in decreasing order, all being the same value 'i'\n",
    "                print(i,end=' ')\n",
    "            print()\n",
    "    def diamond_num_pat_77(self):\n",
    "        # First part of the pattern: Increasing order\n",
    "        for i in range(0,self.n):\n",
    "            for j in range(self.n-i): # First inner loop to print spaces before the numbers in each line, starting from n-i\n",
    "                print(' ',end='')\n",
    "            for k in range(1,i+1): # Second inner loop to print numbers in increasing order, and printing the k vale\n",
    "                print(k,end=' ')\n",
    "            print() # Moving to the next line after completing the inner loops\n",
    "        # Second part of the pattern: Decreasing order\n",
    "        m=1\n",
    "        for i in range(self.n,0,-1):\n",
    "            for j in range(self.n-i): # First inner loop to print spaces before the numbers in each line, starting from n-i\n",
    "                print(\" \",end='')\n",
    "            for k in range(0,i):# Second inner loop to print numbers in decreasing order, and printing the value of k+m\n",
    "                print(k+m,end=' ')\n",
    "            m+=1\n",
    "            print()\n",
    "    def diamond_num_pat_78(self):\n",
    "        for i in range(1,self.n): # loop for n-1 number of rows\n",
    "            for j in range(self.n-i): # loop for n-i number of spaces in each row\n",
    "                print(' ',end='')  # printing n-i spaces\n",
    "            for k in range(1,i+1): # loop for i number of columns\n",
    "                print(k,end=' ') # printing k value seperated by space\n",
    "            print()  #an empty print() for next line\n",
    "        for i in range(self.n,0,-1): # loop for n number of rows\n",
    "            for j in range(self.n-i): # loop for n-i number of spaces in each row\n",
    "                print(\" \",end='') # printing n-i spaces\n",
    "            for k in range(1,i+1): # loop for i number of columns\n",
    "                print(k,end=' ') # printing k values seperated by spaces\n",
    "            print()  #an empty print() for next line\n",
    "    def diamond_alpha_pat_79(self):\n",
    "        for i in range(self.n): #loop for number of rows\n",
    "            for j in range(self.n - i - 1): #loop for number of columns\n",
    "                print(\" \", end='')   # Print spaces before characters\n",
    "            for k in range(i + 1):\n",
    "                print(chr(ord('A') + i), end=' ') # Print characters in increasing order\n",
    "            print()  # Move to the next line after printing each row\n",
    "        for i in range(1, self.n):\n",
    "            for j in range(i):\n",
    "                print(\" \", end='')# Print spaces before characters\n",
    "            for k in range(self.n - i):  # Print characters in decreasing order\n",
    "                print(chr(ord('A') + self.n - i - 1), end=' ')\n",
    "            print()  # Move to the next line after printing each row\n",
    "    def diamond_alpha_pat_80(self):\n",
    "        # First part of the pattern: Increasing order\n",
    "        for i in range(self.n):\n",
    "            for j in range(self.n - i - 1): # First inner loop to print spaces before the characters in each line, starting from n-i-1\n",
    "                print(' ', end='')\n",
    "            for k in range(i+1): # Second inner loop to print characters in increasing order, starting from 'A' to 'A+k'\n",
    "                print(chr(65 + k), end=' ')\n",
    "            print() # Moving to the next line after completing the inner loops\n",
    "        # Second part of the pattern: Decreasing order\n",
    "        m=1\n",
    "        for i in range(1, self.n):\n",
    "            for j in range(i):  # First inner loop to print spaces before the characters in each line, starting from i\n",
    "                print(\" \", end='')\n",
    "            for k in range(self.n - i): # Second inner loop to print characters in decreasing order, starting from 'A+k+m'\n",
    "                print(chr(65 + k+m), end=' ')\n",
    "            m+=1\n",
    "            print() # Moving to the next line after completing the inner loops\n",
    "    def inverted_v_shaped_pat_81(self):\n",
    "        for i in range(0,self.n+1): # Loop to iterate through rows\n",
    "            for j in range(self.n-i+1): # Loop to add leading spaces for formatting\n",
    "                print(' ',end='')\n",
    "            for k in range(i+1): # Loop to print characters for the current row\n",
    "                if k==0 or k==i:\n",
    "                    print(\"*\",end=' ')  # Print '*' if it's the first or last character in the row, otherwise print a space\n",
    "                else:\n",
    "                    print(\" \",end=' ')\n",
    "            print() # Move to the next line after completing the row\n",
    "    def inverted_v_shaped_num_pat_82(self):\n",
    "        for i in range(1,self.n+1): # loop for n number of rows\n",
    "            for j in range(self.n-i): # loop for n-i number of spaces in each row\n",
    "                print(' ',end='') # printing n-i spaces\n",
    "            for k in range(1,i+1): # loop for i number of columns\n",
    "                if k==1 or k==i: #Checking whether the value of k is equal to 1 or i.\n",
    "                    print(i,end=' ') # printing i value if the k value is either 1 or i\n",
    "                else: # else block will execute if k value is neither 1 nor i\n",
    "                    print(\" \",end=' ') # printing spaces\n",
    "            print() #an empty print() for next line\n",
    "    def inverted_v_shaped_num_pat_83(self):\n",
    "        for i in range(0,self.n): # loop for n number of rows\n",
    "            for j in range(self.n-i): # loop for n-i number of spaces in each row\n",
    "                print(' ',end='') # printing n-i spaces\n",
    "            for k in range(0,i+1): # loop for i number of columns\n",
    "                if k==0 or k==i: #Checking whether the value of k is equal to 0 or i.\n",
    "                    print(self.n-i,end=' ') # printing n-i value if the k value is either 1 or i\n",
    "                else: # else block will execute if k value is neither 0 nor i\n",
    "                    print(\" \",end=' ') # printing spaces\n",
    "            print() #an empty print() for next line\n",
    "    def inverted_v_shaped_alpha_pat_84(self):\n",
    "        for i in range(1,self.n+1): # Loop for number of rows\n",
    "            for j in range(self.n-i+2): # First inner loop to print spaces before the characters in each line, starting from n-i+2\n",
    "                print(' ',end='')\n",
    "            for k in range(1,i+1): # Second inner loop to print characters in the shape of an isosceles triangle\n",
    "                if k==1 or k==i:\n",
    "                    print(chr(64+i),end=' ') # Printing the character 'A+i' at the beginning and end of each line\n",
    "                else:\n",
    "                    print(\" \",end=' ') # Printing a space for the inner characters\n",
    "            print() # Moving to the next line after completing the inner loops\n",
    "    def inverted_v_shaped_alpha_pat_85(self):\n",
    "        for i in range(1,self.n+1): # Loop to iterate through rows\n",
    "            for j in range(self.n-i): # Loop to add leading spaces for formatting\n",
    "                print(' ',end='')\n",
    "            for k in range(1,i+1): # Loop to print characters for the current row\n",
    "                if k==1 or k==i:\n",
    "                    print(chr(65+self.n-i),end=' ')  # Print the uppercase letter based on the pattern\n",
    "                else:\n",
    "                    print(\" \",end=' ')\n",
    "            print()# Move to the next line after completing the row\n",
    "    def v_shaped_pat_86(self):\n",
    "        for i in range(self.n,-1,-1): # loop for n number of rows\n",
    "            for j in range(self.n-i):  # loop for n-i number of spaces in each row\n",
    "                print(' ',end='') # printing n-i spaces\n",
    "            for k in range(i+1):  # loop for i number of columns\n",
    "                if k==0 or k==i:  #Checking whether the value of k is equal to 0 or i.\n",
    "                    print(\"*\",end=' ') # printing i value if the k value is either 1 or i\n",
    "                else: # else block will execute if k value is neither 0 nor i\n",
    "                    print(\" \",end=' ') # printing spaces\n",
    "            print() #an empty print() for next line\n",
    "    def v_shaped_num_pat_87(self):\n",
    "        for i in range(self.n): # Loop for each row\n",
    "            for j in range(i): # loop for each column\n",
    "                print(\" \", end='') # Print spaces before numbers\n",
    "            print(i + 1, end='') # Print the leftmost number\n",
    "            for k in range((self.n - i - 1) * 2 - 1): # Print spaces between numbers\n",
    "                print(\" \", end='')\n",
    "            if i < self.n - 1: # Print the rightmost number (if not the first row)\n",
    "                print(i + 1, end='')\n",
    "            print()  # Move to the next line after printing each row\n",
    "    def v_shaped_num_pat_88(self):\n",
    "        for i in range(self.n,-1,-1): # Loop to print the  triangle pattern in reverse order\n",
    "            for j in range(self.n-i):  # First inner loop to print spaces before the numbers in each line, starting from n-i\n",
    "                print(' ',end='')\n",
    "            for k in range(1,i+1): # Second inner loop to print numbers in the shape of an isosceles triangle\n",
    "                if k==1 or k==i:\n",
    "                    print(i,end=' ')  # Printing the number 'i' at the beginning and end of each line\n",
    "                else:\n",
    "                    print(\" \",end=' ') # Printing a space for the inner numbers\n",
    "            print() # Moving to the next line after completing the inner loops\n",
    "    def v_shaped_alpha_pat_89(self):\n",
    "        m=1\n",
    "        for i in range(self.n,0,-1): # loop for n number of rows\n",
    "            for j in range(self.n-i):  # loop for n-i number of spaces in each row\n",
    "                print(' ',end='') # printing n-i spaces\n",
    "            for k in range(i+1):  # loop for i number of columns\n",
    "                if k==1 or k==i:  #Checking whether the value of k is equal to 0 or i.\n",
    "                    print(chr(64+m),end=' ') # printing alphabets by adding 1 to the order of the alphabet\n",
    "                else: # else block will execute if k value is neither 0 nor i\n",
    "                    print(\" \",end=' ') # printing spaces\n",
    "            m+=1\n",
    "            print() #an empty print() for next line\n",
    "    def v_shaped_alpha_pat_90(self):\n",
    "        for i in range(self.n,0,-1):# loop for n number of rows\n",
    "            for j in range(self.n-i): # loop for n-i number ofspaces in each row\n",
    "                print(' ',end='') # printing n-i spaces\n",
    "            for k in range(1,i+1): # loop for i number of columns\n",
    "                if k==1 or k==i: #Checking whether the value of k is equal to 1 or i.\n",
    "                    print(chr(64+i),end=' ') # printing alphabetic pattern if the k value is either 1 or i\n",
    "                else:  # else block will execute if k value is neither 1 nor i\n",
    "                    print(' ',end=' ') # printing spaces\n",
    "            print() #an empty print() for next line\n",
    "    def hallow_diamond_pat_91(self):\n",
    "        for i in range(self.n):  # loop for the number of rows\n",
    "            print(\" \" * (self.n - i), end=\" \")  # print asterisk separated with spaces\n",
    "            for j in range(0, i + 1):  # loop for the number of columns\n",
    "                if j == 0 or j == i:  # using if condition to print asterisk at the beginning and end\n",
    "                    print(\"*\", end=\" \")  # print asterisk separated by spaces\n",
    "                else:\n",
    "                    print(\" \", end=' ')  # print space between asterisks\n",
    "            print()  # move to the next line after completing a row\n",
    "        for i in range(self.n, -1, -1):\n",
    "            print(\" \" * (self.n - i), end=\" \")  # print spaces before the asterisks\n",
    "            for j in range(i+1):\n",
    "                if j == 0 or j == i :  # using if condition to print asterisk at the beginning and end\n",
    "                    print(\"*\", end=\" \")  # print asterisk separated by spaces\n",
    "                else:\n",
    "                    print(\" \", end=' ')  # print space between asterisks\n",
    "            print()  # move to the next line after completing a row\n",
    "    def hallow_diamond_num_pat_92(self):\n",
    "        for i in range(self.n): # Loop for no.of rows\n",
    "            for j in range(self.n-i): # First inner loop to print spaces before the numbers in each line, starting from n-i\n",
    "                print(' ',end='')\n",
    "            for k in range(1,i+1): # Second inner loop to print numbers in the shape of an isosceles triangle\n",
    "                if k==1 or k==i:\n",
    "                    print(i,end=' ')  # Printing the number 'i' at the beginning and end of each line\n",
    "                else:\n",
    "                    print(' ',end=' ') # Printing a space for the inner numbers\n",
    "            print() # Moving to the next line after completing the inner loops\n",
    "\n",
    "        for i in range(self.n,0,-1): #Loop for no.of rows\n",
    "            for j in range(self.n-i): # First inner loop to print spaces before the numbers in each line, starting from n-i\n",
    "                    print(' ',end='')\n",
    "            for k in range(1,i+1): # Second inner loop to print numbers in the shape of an isosceles triangle\n",
    "                if k==1 or k==i:\n",
    "                    print(i,end=' ') # Printing the number 'i' at the beginning and end of each line\n",
    "                else:\n",
    "                    print(' ',end=' ') # Printing a space for the inner numbers\n",
    "            print() # Moving to the next line after completing the inner loops\n",
    "    def hallow_diamond_num_pat_93(self):\n",
    "        # Upper part of the pyramid\n",
    "        for i in range(self.n):  #Loop to iterate through no.o lines\n",
    "            for j in range(self.n-i):  # Loop to add leading spaces for formatting\n",
    "                print(' ',end='')\n",
    "            for k in range(1,i+1): # Loop to print numbers for the current row\n",
    "                if k==1 or k==i: # Print the number n+1-i at the first and last position in the row, otherwise print a space\n",
    "                    print(self.n+1-i,end=' ')\n",
    "                else:\n",
    "                    print(' ',end=' ')\n",
    "            print() # Move to the next line after completing the row\n",
    "        # Lower part of the pyramid\n",
    "        for i in range(self.n,0,-1): #Loop to iterate through no.o lines\n",
    "            for j in range(self.n-i):  # Loop to add leading spaces for formatting\n",
    "                print(' ',end='')\n",
    "            for k in range(1,i+1): # Loop to print numbers for the current row\n",
    "                if k==1 or k==i:  # Print the number n+1-i at the first and last position in the row, otherwise print a space\n",
    "                    print(self.n+1-i,end=\" \")\n",
    "                else:\n",
    "                    print(' ',end=' ')\n",
    "            print()\n",
    "    def hallow_diamond_alpha_pat_94(self):\n",
    "        for i in range(self.n): # loop for n number of rows\n",
    "            for j in range(self.n-i): # loop for n-i number of spaces in each row\n",
    "                print(' ',end='')# printing n-i spaces\n",
    "            for k in range(1,i+1): # loop for i number of columns\n",
    "                if k==1 or k==i:  #Checking whether the value of k is equal to 1 or i.\n",
    "                    print(chr(64+i),end=' ') # printing alphabetic pattern if the k value is either 1 or i\n",
    "                else:   # else block will execute if k value is neither 1 nor i\n",
    "                    print(' ',end=' ') # printing spaces\n",
    "            print()  #an empty print() for next line\n",
    "\n",
    "        for i in range(self.n,0,-1): # loop for n number of rows\n",
    "            for j in range(self.n-i): # loop for n-i number of spaces in each row\n",
    "                print(' ',end='') # printing n-i spaces\n",
    "            for k in range(1,i+1): # loop for i number of columns\n",
    "                if k==1 or k==i:  #Checking whether the value of k is equal to 1 or i.\n",
    "                    print(chr(64+i),end=' ')  # printing alphabetic pattern if the k value is either 1 or i\n",
    "                else:   # else block will execute if k value is neither 1 nor i\n",
    "                    print(' ',end=' ')# printing spaces\n",
    "            print() #an empty print() for next line\n",
    "    def hallow_diamond_alpha_pat_95(self):\n",
    "        # Upper part of the pyramid\n",
    "        for i in range(self.n):  #Loop to iterate through no.o lines\n",
    "            for j in range(self.n-i):  # Loop to add leading spaces for formatting\n",
    "                print(' ',end='')\n",
    "            for k in range(1,i+1): # Loop to print numbers for the current row\n",
    "                if k==1 or k==i: # Print the alphabet chr(64+n+1-i) at the first and last position in the row, otherwise print a space\n",
    "                    print(chr(65+self.n-i),end=' ')\n",
    "                else:\n",
    "                    print(' ',end=' ')\n",
    "            print() # Move to the next line after completing the row\n",
    "        # Lower part of the pyramid\n",
    "        for i in range(self.n,0,-1): #Loop to iterate through no.o lines\n",
    "            for j in range(self.n-i):  # Loop to add leading spaces for formatting\n",
    "                print(' ',end='')\n",
    "            for k in range(1,i+1): # Loop to print numbers for the current row\n",
    "                if k==1 or k==i:  # Print the alphabet chr(64+n+1-i) at the first and last position in the row, otherwise print a space\n",
    "                    print(chr(65+self.n-i),end=\" \")\n",
    "                else:\n",
    "                    print(' ',end=' ')\n",
    "            print() # Move to the next line after completing the row\n",
    "    def half_diamond_with_increasing_space_96(self):\n",
    "        for i in range(self.n,-1,-1): # Loop to print the pattern in descending order\n",
    "            for j in range(i): # First inner loop to print left-aligned asterisks\n",
    "                print(\"*\",end='')\n",
    "            for k in range(self.n-i): # Second inner loop to print spaces, aligning to the right\n",
    "                print(' ',end=' ')\n",
    "            for k in range(i): # Third inner loop to print right-aligned asterisks\n",
    "                print(\"*\",end='')\n",
    "            print() # Moving to the next line after completing the inner loops\n",
    "    def decreasing_space_diamond_pattern_97(self):\n",
    "        for i in range(self.n):  # loop for n number of rows\n",
    "            for j in range(i+1):  # loop for i number of columns\n",
    "                print(\"*\",end='') # printing i number of *'s seperated by space\n",
    "            for k in range(self.n-i-1):  # loop for n-i-1 number of spaces in each row\n",
    "                print(\" \",end=' ')  # printing n-i-1 spaces\n",
    "            for m in range(i+1):  # loop for i number of columns\n",
    "                print(\"*\",end='') # printing i number of *'s seperated by space\n",
    "            print() #an empty print() for next line\n",
    "    def mirrored_diamond_98(self):\n",
    "        for i in range(self.n):  # loop for n number of rows\n",
    "            for j in range(i+1):  # loop for i number of columns\n",
    "                print(\"*\",end='') # printing i number of *'s seperated by space\n",
    "            for k in range(self.n-i-1):  # loop for n-i-1 number of spaces in each row\n",
    "                print(\" \",end=' ')  # printing n-i-1 spaces\n",
    "            for m in range(i+1):  # loop for i number of columns\n",
    "                print(\"*\",end='') # printing i number of *'s seperated by space\n",
    "            print() #an empty print() for next line\n",
    "\n",
    "        for i in range(self.n-1,0,-1):  # loop for n-1 number of rows\n",
    "            for j in range(i):  # loop for i number of columns\n",
    "                print(\"*\",end='')  # printing i number of *'s seperated by space\n",
    "            for k in range(self.n-i):  # loop for n-i number of spaces in each row\n",
    "                print(' ',end=' ') # printing n-i spaces\n",
    "            for k in range(i):  # loop for i number of columns\n",
    "                print(\"*\",end='')# printing i number of *'s seperated by space\n",
    "            print() #an empty print() for next line\n",
    "    def symmetrical_triangular_pat_99(self):\n",
    "        if self.n%2==0: #checking whether the number is even or odd\n",
    "            self.n=self.n-1 # If the number is odd decrement it by 1\n",
    "\n",
    "        for i in range(1, self.n // 2 + 2):  # Outer loop to iterate through each line, starting from 1 up to n//2+1\n",
    "            for j in range(self.n - i - self.n // 2):  # Inner loop to print spaces before the asterisks in each line, starting from n-i-n//2\n",
    "                print(\" \", end=\" \")\n",
    "            for j in range(1, 2 * i):  # Inner loop to print asterisks in each line, starting from 1 up to 2i-1\n",
    "                print(\"*\", end=\" \")\n",
    "\n",
    "            for j in range(self.n - i - self.n // 2):  # Inner loop to print spaces before the asterisks in each line, starting from n-i-n//2\n",
    "                print(\"   \", end=\" \")\n",
    "            for j in range(1, 2 * i):  # Inner loop to print asterisks in each line, starting from 1 up to 2i-1\n",
    "                print(\"*\", end=\" \")\n",
    "\n",
    "            print()  # Moving to the next line after completing the inner loops\n",
    "    def symmetrical_triangular_pat_100(self):\n",
    "        for i in range(1,self.n+1): # Outer loop to print the pattern in ascending order\n",
    "            for j in range(self.n-i): # First inner loop to print spaces, aligning to the left\n",
    "                print(\" \",end='')\n",
    "            for k in range(1,i+1): # Second inner loop to print left-aligned asterisks\n",
    "                print(\"*\",end=' ')\n",
    "            for j in range(self.n-i):  # Third inner loop to print spaces, aligning to the right\n",
    "                print(\" \",end=' ')\n",
    "            for k in range(1,i+1): # Fourth inner loop to print right-aligned asterisks\n",
    "                print(\"*\",end=' ')\n",
    "            print() # Moving to the next line after completing the inner loops\n",
    "\n",
    "\n",
    "    "
   ]
  },
  {
   "cell_type": "code",
   "execution_count": 213,
   "id": "7922aed5",
   "metadata": {},
   "outputs": [
    {
     "ename": "AssertionError",
     "evalue": "ValueError: integer is needed ",
     "output_type": "error",
     "traceback": [
      "\u001b[1;31m---------------------------------------------------------------------------\u001b[0m",
      "\u001b[1;31mAssertionError\u001b[0m                            Traceback (most recent call last)",
      "Cell \u001b[1;32mIn[213], line 1\u001b[0m\n\u001b[1;32m----> 1\u001b[0m Obj\u001b[38;5;241m=\u001b[39mPatterns(\u001b[38;5;124m'\u001b[39m\u001b[38;5;124mhi\u001b[39m\u001b[38;5;124m'\u001b[39m)\n",
      "Cell \u001b[1;32mIn[209], line 4\u001b[0m, in \u001b[0;36mPatterns.__init__\u001b[1;34m(self, n)\u001b[0m\n\u001b[0;32m      3\u001b[0m \u001b[38;5;28;01mdef\u001b[39;00m \u001b[38;5;21m__init__\u001b[39m(\u001b[38;5;28mself\u001b[39m,n):\n\u001b[1;32m----> 4\u001b[0m     \u001b[38;5;28;01massert\u001b[39;00m \u001b[38;5;28mtype\u001b[39m(n)\u001b[38;5;241m==\u001b[39m\u001b[38;5;28mint\u001b[39m,\u001b[38;5;124m\"\u001b[39m\u001b[38;5;124mValueError: integer is needed \u001b[39m\u001b[38;5;124m\"\u001b[39m\n\u001b[0;32m      5\u001b[0m     \u001b[38;5;28mself\u001b[39m\u001b[38;5;241m.\u001b[39mn\u001b[38;5;241m=\u001b[39mn\n",
      "\u001b[1;31mAssertionError\u001b[0m: ValueError: integer is needed "
     ]
    }
   ],
   "source": [
    "Obj=Patterns('hi')"
   ]
  },
  {
   "cell_type": "code",
   "execution_count": 210,
   "id": "a2638401",
   "metadata": {},
   "outputs": [
    {
     "name": "stdout",
     "output_type": "stream",
     "text": [
      "* * * * * \n",
      "* * * * * \n",
      "* * * * * \n",
      "* * * * * \n",
      "* * * * * \n"
     ]
    }
   ],
   "source": [
    "PatternObj=Patterns(5)\n",
    "PatternObj.square_grid_pat_1()"
   ]
  },
  {
   "cell_type": "code",
   "execution_count": 46,
   "id": "4fd45828",
   "metadata": {},
   "outputs": [
    {
     "name": "stdout",
     "output_type": "stream",
     "text": [
      "1 1 1 1 1 \n",
      "2 2 2 2 2 \n",
      "3 3 3 3 3 \n",
      "4 4 4 4 4 \n",
      "5 5 5 5 5 \n"
     ]
    }
   ],
   "source": [
    "PatternObj.square_grid_num_pat_2()"
   ]
  },
  {
   "cell_type": "code",
   "execution_count": 47,
   "id": "54f87763",
   "metadata": {},
   "outputs": [
    {
     "name": "stdout",
     "output_type": "stream",
     "text": [
      "1 2 3 4 5 \n",
      "1 2 3 4 5 \n",
      "1 2 3 4 5 \n",
      "1 2 3 4 5 \n",
      "1 2 3 4 5 \n"
     ]
    }
   ],
   "source": [
    "PatternObj.square_grid_num_pat_3()"
   ]
  },
  {
   "cell_type": "code",
   "execution_count": 48,
   "id": "d5039f5f",
   "metadata": {},
   "outputs": [
    {
     "name": "stdout",
     "output_type": "stream",
     "text": [
      "A A A A A \n",
      "B B B B B \n",
      "C C C C C \n",
      "D D D D D \n",
      "E E E E E \n"
     ]
    }
   ],
   "source": [
    "PatternObj.square_grid_alpha_pat_4()"
   ]
  },
  {
   "cell_type": "code",
   "execution_count": 49,
   "id": "3720fa14",
   "metadata": {},
   "outputs": [
    {
     "name": "stdout",
     "output_type": "stream",
     "text": [
      "A B C D E \n",
      "A B C D E \n",
      "A B C D E \n",
      "A B C D E \n",
      "A B C D E \n"
     ]
    }
   ],
   "source": [
    "PatternObj.square_grid_alpha_pat_5()"
   ]
  },
  {
   "cell_type": "code",
   "execution_count": 50,
   "id": "bdaf2fa3",
   "metadata": {},
   "outputs": [
    {
     "name": "stdout",
     "output_type": "stream",
     "text": [
      "5 5 5 5 5 \n",
      "4 4 4 4 4 \n",
      "3 3 3 3 3 \n",
      "2 2 2 2 2 \n",
      "1 1 1 1 1 \n"
     ]
    }
   ],
   "source": [
    "PatternObj.square_grid_num_pat_6()"
   ]
  },
  {
   "cell_type": "code",
   "execution_count": 51,
   "id": "67b6ef9c",
   "metadata": {},
   "outputs": [
    {
     "name": "stdout",
     "output_type": "stream",
     "text": [
      "5 4 3 2 1 \n",
      "5 4 3 2 1 \n",
      "5 4 3 2 1 \n",
      "5 4 3 2 1 \n",
      "5 4 3 2 1 \n"
     ]
    }
   ],
   "source": [
    "PatternObj.square_grid_num_pat_7()"
   ]
  },
  {
   "cell_type": "code",
   "execution_count": 55,
   "id": "8852fd32",
   "metadata": {},
   "outputs": [
    {
     "name": "stdout",
     "output_type": "stream",
     "text": [
      "E E E E E \n",
      "D D D D D \n",
      "C C C C C \n",
      "B B B B B \n",
      "A A A A A \n"
     ]
    }
   ],
   "source": [
    "PatternObj.square_grid_alpha_pat_8()"
   ]
  },
  {
   "cell_type": "code",
   "execution_count": 56,
   "id": "c40595c1",
   "metadata": {},
   "outputs": [
    {
     "name": "stdout",
     "output_type": "stream",
     "text": [
      "E D C B A \n",
      "E D C B A \n",
      "E D C B A \n",
      "E D C B A \n",
      "E D C B A \n"
     ]
    }
   ],
   "source": [
    "PatternObj.square_grid_alpha_pat_9()"
   ]
  },
  {
   "cell_type": "code",
   "execution_count": 57,
   "id": "0cb659f6",
   "metadata": {},
   "outputs": [
    {
     "name": "stdout",
     "output_type": "stream",
     "text": [
      "* \n",
      "* * \n",
      "* * * \n",
      "* * * * \n",
      "* * * * * \n"
     ]
    }
   ],
   "source": [
    "PatternObj.increasing_triangular_pat_10()"
   ]
  },
  {
   "cell_type": "code",
   "execution_count": 58,
   "id": "aed4da76",
   "metadata": {},
   "outputs": [
    {
     "name": "stdout",
     "output_type": "stream",
     "text": [
      "1 \n",
      "2 2 \n",
      "3 3 3 \n",
      "4 4 4 4 \n",
      "5 5 5 5 5 \n"
     ]
    }
   ],
   "source": [
    "PatternObj.increasing_triangular_num_pat_11()"
   ]
  },
  {
   "cell_type": "code",
   "execution_count": 59,
   "id": "8b03c934",
   "metadata": {},
   "outputs": [
    {
     "name": "stdout",
     "output_type": "stream",
     "text": [
      "1 \n",
      "1 2 \n",
      "1 2 3 \n",
      "1 2 3 4 \n",
      "1 2 3 4 5 \n"
     ]
    }
   ],
   "source": [
    "PatternObj.increasing_triangular_num_pat_12()"
   ]
  },
  {
   "cell_type": "code",
   "execution_count": 60,
   "id": "1f5c10c1",
   "metadata": {},
   "outputs": [
    {
     "name": "stdout",
     "output_type": "stream",
     "text": [
      "A \n",
      "B B \n",
      "C C C \n",
      "D D D D \n",
      "E E E E E \n"
     ]
    }
   ],
   "source": [
    "PatternObj.increasing_triangular_alpha_pat_13()"
   ]
  },
  {
   "cell_type": "code",
   "execution_count": 61,
   "id": "f2924664",
   "metadata": {},
   "outputs": [
    {
     "name": "stdout",
     "output_type": "stream",
     "text": [
      "A \n",
      "A B \n",
      "A B C \n",
      "A B C D \n",
      "A B C D E \n"
     ]
    }
   ],
   "source": [
    "PatternObj.increasing_triangular_alpha_pat_14()"
   ]
  },
  {
   "cell_type": "code",
   "execution_count": 62,
   "id": "bb87870d",
   "metadata": {},
   "outputs": [
    {
     "name": "stdout",
     "output_type": "stream",
     "text": [
      "* * * * * \n",
      "* * * * \n",
      "* * * \n",
      "* * \n",
      "* \n"
     ]
    }
   ],
   "source": [
    "PatternObj.decreasing_triangular_pat_15()"
   ]
  },
  {
   "cell_type": "code",
   "execution_count": 67,
   "id": "ce976233",
   "metadata": {},
   "outputs": [
    {
     "name": "stdout",
     "output_type": "stream",
     "text": [
      "1 1 1 1 \n",
      "2 2 2 \n",
      "3 3 \n",
      "4 \n"
     ]
    }
   ],
   "source": [
    "PatternObj.decreasing_triangular_num_pat_16()"
   ]
  },
  {
   "cell_type": "code",
   "execution_count": 71,
   "id": "07de099e",
   "metadata": {},
   "outputs": [
    {
     "name": "stdout",
     "output_type": "stream",
     "text": [
      "1 2 3 4 5 \n",
      "1 2 3 4 \n",
      "1 2 3 \n",
      "1 2 \n",
      "1 \n"
     ]
    }
   ],
   "source": [
    "PatternObj.decreasing_triangular_num_pat_17()"
   ]
  },
  {
   "cell_type": "code",
   "execution_count": 73,
   "id": "4d3aa8ee",
   "metadata": {},
   "outputs": [
    {
     "name": "stdout",
     "output_type": "stream",
     "text": [
      "A A A A A \n",
      "B B B B \n",
      "C C C \n",
      "D D \n",
      "E \n"
     ]
    }
   ],
   "source": [
    "PatternObj.decreasing_triangular_alpha_pat_18()"
   ]
  },
  {
   "cell_type": "code",
   "execution_count": 74,
   "id": "01cf33d1",
   "metadata": {},
   "outputs": [
    {
     "name": "stdout",
     "output_type": "stream",
     "text": [
      "A B C D E \n",
      "A B C D \n",
      "A B C \n",
      "A B \n",
      "A \n"
     ]
    }
   ],
   "source": [
    "PatternObj.decreasing_triangular_alpha_pat_19()"
   ]
  },
  {
   "cell_type": "code",
   "execution_count": 75,
   "id": "38da62ab",
   "metadata": {},
   "outputs": [
    {
     "name": "stdout",
     "output_type": "stream",
     "text": [
      "5 5 5 5 5 \n",
      "4 4 4 4 \n",
      "3 3 3 \n",
      "2 2 \n",
      "1 \n"
     ]
    }
   ],
   "source": [
    "PatternObj.decreasing_triangular_num_pat_20()"
   ]
  },
  {
   "cell_type": "code",
   "execution_count": 79,
   "id": "6a40c928",
   "metadata": {},
   "outputs": [
    {
     "name": "stdout",
     "output_type": "stream",
     "text": [
      "5 4 3 2 1 \n",
      "5 4 3 2 \n",
      "5 4 3 \n",
      "5 4 \n",
      "5 \n"
     ]
    }
   ],
   "source": [
    "PatternObj.decreasing_triangular_num_pat_21()"
   ]
  },
  {
   "cell_type": "code",
   "execution_count": 80,
   "id": "23953864",
   "metadata": {},
   "outputs": [
    {
     "name": "stdout",
     "output_type": "stream",
     "text": [
      "E E E E E \n",
      "D D D D \n",
      "C C C \n",
      "B B \n",
      "A \n"
     ]
    }
   ],
   "source": [
    "PatternObj.decreasing_triangular_alpha_pat_22()"
   ]
  },
  {
   "cell_type": "code",
   "execution_count": 84,
   "id": "790665b9",
   "metadata": {},
   "outputs": [
    {
     "name": "stdout",
     "output_type": "stream",
     "text": [
      "F E D C B A \n",
      "F E D C B \n",
      "F E D C \n",
      "F E D \n",
      "F E \n",
      "F \n"
     ]
    }
   ],
   "source": [
    "PatternObj.decreasing_triangular_alpha_pat_23()"
   ]
  },
  {
   "cell_type": "code",
   "execution_count": 85,
   "id": "9f2f24f4",
   "metadata": {},
   "outputs": [
    {
     "name": "stdout",
     "output_type": "stream",
     "text": [
      "          \n",
      "        * \n",
      "      * * \n",
      "    * * * \n",
      "  * * * * \n",
      "* * * * * \n"
     ]
    }
   ],
   "source": [
    "PatternObj.right_aligned_triangular_pat_24()"
   ]
  },
  {
   "cell_type": "code",
   "execution_count": 86,
   "id": "51963a2a",
   "metadata": {},
   "outputs": [
    {
     "name": "stdout",
     "output_type": "stream",
     "text": [
      "          \n",
      "        1 \n",
      "      2 2 \n",
      "    3 3 3 \n",
      "  4 4 4 4 \n",
      "5 5 5 5 5 \n"
     ]
    }
   ],
   "source": [
    "PatternObj.right_aligned_triangular_num_pat_25()"
   ]
  },
  {
   "cell_type": "code",
   "execution_count": 87,
   "id": "15b18079",
   "metadata": {},
   "outputs": [
    {
     "name": "stdout",
     "output_type": "stream",
     "text": [
      "        1 \n",
      "      1 2 \n",
      "    1 2 3 \n",
      "  1 2 3 4 \n",
      "1 2 3 4 5 \n"
     ]
    }
   ],
   "source": [
    "PatternObj.right_aligned_triangular_num_pat_26()"
   ]
  },
  {
   "cell_type": "code",
   "execution_count": 88,
   "id": "bddb0f9a",
   "metadata": {},
   "outputs": [
    {
     "name": "stdout",
     "output_type": "stream",
     "text": [
      "          A \n",
      "        B B \n",
      "      C C C \n",
      "    D D D D \n",
      "  E E E E E \n"
     ]
    }
   ],
   "source": [
    "PatternObj.right_aligned_triangular_alpha_pat_27()"
   ]
  },
  {
   "cell_type": "code",
   "execution_count": 89,
   "id": "e237cec7",
   "metadata": {},
   "outputs": [
    {
     "name": "stdout",
     "output_type": "stream",
     "text": [
      "          \n",
      "        A \n",
      "      A B \n",
      "    A B C \n",
      "  A B C D \n",
      "A B C D E \n"
     ]
    }
   ],
   "source": [
    "PatternObj.right_aligned_triangular_alpha_pat_28()"
   ]
  },
  {
   "cell_type": "code",
   "execution_count": 90,
   "id": "d54b8cb7",
   "metadata": {},
   "outputs": [
    {
     "name": "stdout",
     "output_type": "stream",
     "text": [
      "* * * * * \n",
      "  * * * * \n",
      "    * * * \n",
      "      * * \n",
      "        * \n"
     ]
    }
   ],
   "source": [
    "PatternObj.right_aligned_decreasing_triangular_pat_29()"
   ]
  },
  {
   "cell_type": "code",
   "execution_count": 91,
   "id": "b1b0df7a",
   "metadata": {},
   "outputs": [
    {
     "name": "stdout",
     "output_type": "stream",
     "text": [
      "5 5 5 5 5 \n",
      "  4 4 4 4 \n",
      "    3 3 3 \n",
      "      2 2 \n",
      "        1 \n"
     ]
    }
   ],
   "source": [
    "PatternObj.right_aligned_decreasing_triangular_num_pat_30()"
   ]
  },
  {
   "cell_type": "code",
   "execution_count": 92,
   "id": "79df0653",
   "metadata": {},
   "outputs": [
    {
     "name": "stdout",
     "output_type": "stream",
     "text": [
      "1 2 3 4 5 \n",
      "  1 2 3 4 \n",
      "    1 2 3 \n",
      "      1 2 \n",
      "        1 \n"
     ]
    }
   ],
   "source": [
    "PatternObj.right_aligned_decreasing_triangular_num_pat_31()"
   ]
  },
  {
   "cell_type": "code",
   "execution_count": 93,
   "id": "acb34b34",
   "metadata": {},
   "outputs": [
    {
     "name": "stdout",
     "output_type": "stream",
     "text": [
      "  E E E E E \n",
      "    D D D D \n",
      "      C C C \n",
      "        B B \n",
      "          A \n"
     ]
    }
   ],
   "source": [
    "PatternObj.right_aligned_decreasing_triangular_alpha_pat_32()"
   ]
  },
  {
   "cell_type": "code",
   "execution_count": 94,
   "id": "eeb5b350",
   "metadata": {},
   "outputs": [
    {
     "name": "stdout",
     "output_type": "stream",
     "text": [
      "A B C D E \n",
      "  A B C D \n",
      "    A B C \n",
      "      A B \n",
      "        A \n"
     ]
    }
   ],
   "source": [
    "PatternObj.right_aligned_decreasing_triangular_alpha_pat_33()"
   ]
  },
  {
   "cell_type": "code",
   "execution_count": 95,
   "id": "b1bd4916",
   "metadata": {},
   "outputs": [
    {
     "name": "stdout",
     "output_type": "stream",
     "text": [
      "    * \n",
      "   * * \n",
      "  * * * \n",
      " * * * * \n",
      "* * * * * \n"
     ]
    }
   ],
   "source": [
    "PatternObj.increasing_triangular_pat_34()"
   ]
  },
  {
   "cell_type": "code",
   "execution_count": 96,
   "id": "d146d0b7",
   "metadata": {},
   "outputs": [
    {
     "name": "stdout",
     "output_type": "stream",
     "text": [
      "        1 \n",
      "      2 2 2 \n",
      "    3 3 3 3 3 \n",
      "  4 4 4 4 4 4 4 \n",
      "5 5 5 5 5 5 5 5 5 \n"
     ]
    }
   ],
   "source": [
    "PatternObj.increasing_triangular_num_pat_35()"
   ]
  },
  {
   "cell_type": "code",
   "execution_count": 97,
   "id": "c589ea89",
   "metadata": {},
   "outputs": [
    {
     "name": "stdout",
     "output_type": "stream",
     "text": [
      "        1 \n",
      "      3 3 3 \n",
      "    5 5 5 5 5 \n"
     ]
    }
   ],
   "source": [
    "PatternObj.increasing_triangular_num_pat_36()"
   ]
  },
  {
   "cell_type": "code",
   "execution_count": 98,
   "id": "39a9d43e",
   "metadata": {},
   "outputs": [
    {
     "name": "stdout",
     "output_type": "stream",
     "text": [
      "          A \n",
      "        B B B \n",
      "      C C C C C \n",
      "    D D D D D D D \n",
      "  E E E E E E E E E \n"
     ]
    }
   ],
   "source": [
    "PatternObj.increasing_triangular_alpha_pat_37()"
   ]
  },
  {
   "cell_type": "code",
   "execution_count": 211,
   "id": "9c9d031c",
   "metadata": {},
   "outputs": [
    {
     "name": "stdout",
     "output_type": "stream",
     "text": [
      "                  A \n",
      "                C C C \n",
      "              E E E E E \n",
      "            G G G G G G G \n"
     ]
    }
   ],
   "source": [
    "PatternObj1=Patterns(9)\n",
    "PatternObj1.increasing_triangular_alpha_pat_38()"
   ]
  },
  {
   "cell_type": "code",
   "execution_count": 103,
   "id": "836f3d82",
   "metadata": {},
   "outputs": [
    {
     "name": "stdout",
     "output_type": "stream",
     "text": [
      "                1 \n",
      "              1 2 3 \n",
      "            1 2 3 4 5 \n",
      "          1 2 3 4 5 6 7 \n"
     ]
    }
   ],
   "source": [
    "PatternObj1.increasing_triangular_num_pat_39()"
   ]
  },
  {
   "cell_type": "code",
   "execution_count": 105,
   "id": "fc50b2ee",
   "metadata": {},
   "outputs": [
    {
     "name": "stdout",
     "output_type": "stream",
     "text": [
      "        1 \n",
      "      3 2 1 \n",
      "    5 4 3 2 1 \n",
      "  7 6 5 4 3 2 1 \n",
      "9 8 7 6 5 4 3 2 1 \n"
     ]
    }
   ],
   "source": [
    "PatternObj1.increasing_triangular_num_pat_40()"
   ]
  },
  {
   "cell_type": "code",
   "execution_count": 107,
   "id": "028b9656",
   "metadata": {},
   "outputs": [
    {
     "name": "stdout",
     "output_type": "stream",
     "text": [
      "          A \n",
      "        A B C \n",
      "      A B C D E \n",
      "    A B C D E F G \n",
      "  A B C D E F G H I \n"
     ]
    }
   ],
   "source": [
    "PatternObj1.increasing_triangular_alpha_pat_41()"
   ]
  },
  {
   "cell_type": "code",
   "execution_count": 109,
   "id": "e097976f",
   "metadata": {},
   "outputs": [
    {
     "name": "stdout",
     "output_type": "stream",
     "text": [
      "                  A \n",
      "                C B A \n",
      "              E D C B A \n",
      "            G F E D C B A \n",
      "          I H G F E D C B A \n"
     ]
    }
   ],
   "source": [
    "PatternObj1.increasing_triangular_alpha_pat_42()"
   ]
  },
  {
   "cell_type": "code",
   "execution_count": 110,
   "id": "1b711d3e",
   "metadata": {},
   "outputs": [
    {
     "name": "stdout",
     "output_type": "stream",
     "text": [
      "          0 \n",
      "        1 0 1 \n",
      "      2 1 0 1 2 \n",
      "    3 2 1 0 1 2 3 \n",
      "  4 3 2 1 0 1 2 3 4 \n",
      "5 4 3 2 1 0 1 2 3 4 5 \n"
     ]
    }
   ],
   "source": [
    "PatternObj.increasing_triangular_num_pat_43()"
   ]
  },
  {
   "cell_type": "code",
   "execution_count": 111,
   "id": "dbaeec61",
   "metadata": {},
   "outputs": [
    {
     "name": "stdout",
     "output_type": "stream",
     "text": [
      "        A \n",
      "      B A B \n",
      "    C B A B C \n",
      "  D C B A B C D \n",
      "E D C B A B C D E \n"
     ]
    }
   ],
   "source": [
    "PatternObj.increasing_triangular_alpha_pat_44()"
   ]
  },
  {
   "cell_type": "code",
   "execution_count": 112,
   "id": "94193979",
   "metadata": {},
   "outputs": [
    {
     "name": "stdout",
     "output_type": "stream",
     "text": [
      "        1 \n",
      "      1 2 1 \n",
      "    1 2 3 2 1 \n",
      "  1 2 3 4 3 2 1 \n",
      "1 2 3 4 5 4 3 2 1 \n"
     ]
    }
   ],
   "source": [
    "PatternObj.increasing_triangular_num_pat_45()"
   ]
  },
  {
   "cell_type": "code",
   "execution_count": 113,
   "id": "c74841c9",
   "metadata": {},
   "outputs": [
    {
     "name": "stdout",
     "output_type": "stream",
     "text": [
      "          \n",
      "        A \n",
      "      A B A \n",
      "    A B C B A \n",
      "  A B C D C B A \n",
      "A B C D E D C B A \n"
     ]
    }
   ],
   "source": [
    "PatternObj.increasing_triangular_alpha_pat_46()"
   ]
  },
  {
   "cell_type": "code",
   "execution_count": 115,
   "id": "a024e16f",
   "metadata": {},
   "outputs": [
    {
     "name": "stdout",
     "output_type": "stream",
     "text": [
      "          * * * * * * * * * \n",
      "            * * * * * * * \n",
      "              * * * * * \n",
      "                * * * \n",
      "                  * \n"
     ]
    }
   ],
   "source": [
    "PatternObj1.left_aligned_decreasing_triangular_pat_47()"
   ]
  },
  {
   "cell_type": "code",
   "execution_count": 116,
   "id": "056128b4",
   "metadata": {},
   "outputs": [
    {
     "name": "stdout",
     "output_type": "stream",
     "text": [
      "  4 4 4 4 4 4 4 \n",
      "    3 3 3 3 3 \n",
      "      2 2 2 \n",
      "        1 \n"
     ]
    }
   ],
   "source": [
    "PatternObj.left_aligned_decreasing_triangular_num_pat_48()"
   ]
  },
  {
   "cell_type": "code",
   "execution_count": 119,
   "id": "cb819086",
   "metadata": {},
   "outputs": [
    {
     "name": "stdout",
     "output_type": "stream",
     "text": [
      "    5 5 5 5 5 \n",
      "      3 3 3 \n",
      "        1 \n"
     ]
    }
   ],
   "source": [
    "PatternObj.left_aligned_decreasing_triangular_num_pat_49()"
   ]
  },
  {
   "cell_type": "code",
   "execution_count": 120,
   "id": "1935863b",
   "metadata": {},
   "outputs": [
    {
     "name": "stdout",
     "output_type": "stream",
     "text": [
      "    1 2 3 4 5 \n",
      "      1 2 3 \n",
      "        1 \n"
     ]
    }
   ],
   "source": [
    "PatternObj.inverted_pyramid_num_pat_50()"
   ]
  },
  {
   "cell_type": "code",
   "execution_count": 121,
   "id": "2f9aa926",
   "metadata": {},
   "outputs": [
    {
     "name": "stdout",
     "output_type": "stream",
     "text": [
      "  E E E E E E E E E \n",
      "    D D D D D D D \n",
      "      C C C C C \n",
      "        B B B \n",
      "          A \n"
     ]
    }
   ],
   "source": [
    "PatternObj.inverted_pyramid_alpha_pat_51()"
   ]
  },
  {
   "cell_type": "code",
   "execution_count": 126,
   "id": "ec299f28",
   "metadata": {},
   "outputs": [
    {
     "name": "stdout",
     "output_type": "stream",
     "text": [
      "  I I I I I I I I I \n",
      "    G G G G G G G \n",
      "      E E E E E \n",
      "        C C C \n",
      "          A \n"
     ]
    }
   ],
   "source": [
    "PatternObj.inverted_pyramid_alpha_pat_52()"
   ]
  },
  {
   "cell_type": "code",
   "execution_count": 128,
   "id": "288e3e70",
   "metadata": {},
   "outputs": [
    {
     "name": "stdout",
     "output_type": "stream",
     "text": [
      " A B C D E F G H I \n",
      "   A B C D E F G \n",
      "     A B C D E \n",
      "       A B C \n",
      "         A \n"
     ]
    }
   ],
   "source": [
    "PatternObj1.inverted_pyramid_alpha_pat_53()"
   ]
  },
  {
   "cell_type": "code",
   "execution_count": 129,
   "id": "7b7abf05",
   "metadata": {},
   "outputs": [
    {
     "name": "stdout",
     "output_type": "stream",
     "text": [
      "\n",
      "* \n",
      "* * \n",
      "* * * \n",
      "* * * * \n",
      "* * * * * \n",
      "* * * * \n",
      "* * * \n",
      "* * \n",
      "* \n"
     ]
    }
   ],
   "source": [
    "PatternObj.alternating_triangular_pat_54()"
   ]
  },
  {
   "cell_type": "code",
   "execution_count": 132,
   "id": "c8577cdb",
   "metadata": {},
   "outputs": [
    {
     "name": "stdout",
     "output_type": "stream",
     "text": [
      "3 \n",
      "3 2 \n",
      "3 2 1 \n",
      "3 2 1 0 \n",
      "3 2 1 \n",
      "3 2 \n",
      "3 \n"
     ]
    }
   ],
   "source": [
    "PatternObj2=Patterns(3)\n",
    "PatternObj2.alternating_triangular_num_pat_55()"
   ]
  },
  {
   "cell_type": "code",
   "execution_count": 134,
   "id": "fb4326e2",
   "metadata": {},
   "outputs": [
    {
     "name": "stdout",
     "output_type": "stream",
     "text": [
      "3 \n",
      "2 3 \n",
      "1 2 3 \n",
      "0 1 2 3 \n",
      "1 2 3 \n",
      "2 3 \n",
      "3 \n"
     ]
    }
   ],
   "source": [
    "PatternObj2.alternating_triangular_num_pat_56()"
   ]
  },
  {
   "cell_type": "code",
   "execution_count": 135,
   "id": "64f9545f",
   "metadata": {},
   "outputs": [
    {
     "name": "stdout",
     "output_type": "stream",
     "text": [
      "D \n",
      "D C \n",
      "D C B \n",
      "D C B A \n",
      "D C B \n",
      "D C \n",
      "D \n"
     ]
    }
   ],
   "source": [
    "PatternObj2.alternating_triangular_alpha_pat_57()"
   ]
  },
  {
   "cell_type": "code",
   "execution_count": 137,
   "id": "f134efbc",
   "metadata": {},
   "outputs": [
    {
     "name": "stdout",
     "output_type": "stream",
     "text": [
      "D \n",
      "C D \n",
      "B C D \n",
      "A B C D \n",
      "B C D \n",
      "C D \n",
      "D \n"
     ]
    }
   ],
   "source": [
    "PatternObj2.alternating_triangular_alpha_pat_58()"
   ]
  },
  {
   "cell_type": "code",
   "execution_count": 140,
   "id": "022d2bb3",
   "metadata": {},
   "outputs": [
    {
     "name": "stdout",
     "output_type": "stream",
     "text": [
      "        * \n",
      "      * * \n",
      "    * * * \n",
      "  * * * * \n",
      "* * * * * \n",
      "  * * * * \n",
      "    * * * \n",
      "      * * \n",
      "        * \n"
     ]
    }
   ],
   "source": [
    "PatternObj.left_pascal_triangle_pat_59()"
   ]
  },
  {
   "cell_type": "code",
   "execution_count": 142,
   "id": "dd2a890a",
   "metadata": {},
   "outputs": [
    {
     "name": "stdout",
     "output_type": "stream",
     "text": [
      "      3 \n",
      "    3 2 \n",
      "  3 2 1 \n",
      "3 2 1 0 \n",
      "  3 2 1 \n",
      "    3 2 \n",
      "      3 \n"
     ]
    }
   ],
   "source": [
    "PatternObj2.left_pascal_triangle_num_pat_60()"
   ]
  },
  {
   "cell_type": "code",
   "execution_count": 144,
   "id": "a10098ba",
   "metadata": {},
   "outputs": [
    {
     "name": "stdout",
     "output_type": "stream",
     "text": [
      "      3 \n",
      "    2 3 \n",
      "  1 2 3 \n",
      "0 1 2 3 \n",
      "  1 2 3 \n",
      "    2 3 \n",
      "      3 \n"
     ]
    }
   ],
   "source": [
    "PatternObj2.left_pascal_triangle_num_pat_61()"
   ]
  },
  {
   "cell_type": "code",
   "execution_count": 149,
   "id": "1d051670",
   "metadata": {},
   "outputs": [
    {
     "name": "stdout",
     "output_type": "stream",
     "text": [
      "        \n",
      "      D \n",
      "    C D \n",
      "  B C D \n",
      "A B C D \n",
      "  B C D \n",
      "    C D \n",
      "      D \n"
     ]
    }
   ],
   "source": [
    "PatternObj3=Patterns(4)\n",
    "PatternObj3.left_pascal_triangle_alpha_pat_62()"
   ]
  },
  {
   "cell_type": "code",
   "execution_count": 152,
   "id": "2ecdaf61",
   "metadata": {},
   "outputs": [
    {
     "name": "stdout",
     "output_type": "stream",
     "text": [
      "      D \n",
      "    D C \n",
      "  D C B \n",
      "D C B A \n",
      "  D C B \n",
      "    D C \n",
      "      D \n"
     ]
    }
   ],
   "source": [
    "PatternObj2.left_pascal_triangle_alpha_pat_63()"
   ]
  },
  {
   "cell_type": "code",
   "execution_count": 153,
   "id": "7de68aa4",
   "metadata": {},
   "outputs": [
    {
     "name": "stdout",
     "output_type": "stream",
     "text": [
      "     \n",
      "    * \n",
      "   * * \n",
      "  * * * \n",
      " * * * * \n",
      "* * * * * \n"
     ]
    }
   ],
   "source": [
    "PatternObj.increasing_triangular_pat_64()"
   ]
  },
  {
   "cell_type": "code",
   "execution_count": 154,
   "id": "dc409084",
   "metadata": {},
   "outputs": [
    {
     "name": "stdout",
     "output_type": "stream",
     "text": [
      "     \n",
      "    1 \n",
      "   2 2 \n",
      "  3 3 3 \n",
      " 4 4 4 4 \n",
      "5 5 5 5 5 \n"
     ]
    }
   ],
   "source": [
    "PatternObj.increasing_triangular_num_pat_65()"
   ]
  },
  {
   "cell_type": "code",
   "execution_count": 155,
   "id": "7bba06d1",
   "metadata": {},
   "outputs": [
    {
     "name": "stdout",
     "output_type": "stream",
     "text": [
      "    1 \n",
      "   1 2 \n",
      "  1 2 3 \n",
      " 1 2 3 4 \n",
      "1 2 3 4 5 \n"
     ]
    }
   ],
   "source": [
    "PatternObj.increasing_triangular_num_pat_66()"
   ]
  },
  {
   "cell_type": "code",
   "execution_count": 156,
   "id": "48e7de9a",
   "metadata": {},
   "outputs": [
    {
     "name": "stdout",
     "output_type": "stream",
     "text": [
      "    A \n",
      "   B B \n",
      "  C C C \n",
      " D D D D \n",
      "E E E E E \n"
     ]
    }
   ],
   "source": [
    "PatternObj.increasing_triangular_alpha_pat_67()"
   ]
  },
  {
   "cell_type": "code",
   "execution_count": 157,
   "id": "031b3f07",
   "metadata": {},
   "outputs": [
    {
     "name": "stdout",
     "output_type": "stream",
     "text": [
      "     \n",
      "    A \n",
      "   A B \n",
      "  A B C \n",
      " A B C D \n",
      "A B C D E \n"
     ]
    }
   ],
   "source": [
    "PatternObj.increasing_triangular_alpha_pat_68()"
   ]
  },
  {
   "cell_type": "code",
   "execution_count": 158,
   "id": "173953bf",
   "metadata": {},
   "outputs": [
    {
     "name": "stdout",
     "output_type": "stream",
     "text": [
      "* * * * * \n",
      " * * * * \n",
      "  * * * \n",
      "   * * \n",
      "    * \n"
     ]
    }
   ],
   "source": [
    "PatternObj.decreasing_triangular_pat_69()"
   ]
  },
  {
   "cell_type": "code",
   "execution_count": 159,
   "id": "aaf76464",
   "metadata": {},
   "outputs": [
    {
     "name": "stdout",
     "output_type": "stream",
     "text": [
      "5 5 5 5 5 \n",
      " 4 4 4 4 \n",
      "  3 3 3 \n",
      "   2 2 \n",
      "    1 \n",
      "     \n"
     ]
    }
   ],
   "source": [
    "PatternObj.decreasing_triangular_num_pat_70()"
   ]
  },
  {
   "cell_type": "code",
   "execution_count": 160,
   "id": "a89ff37b",
   "metadata": {},
   "outputs": [
    {
     "name": "stdout",
     "output_type": "stream",
     "text": [
      "5 4 3 2 1 \n",
      " 4 3 2 1 \n",
      "  3 2 1 \n",
      "   2 1 \n",
      "    1 \n"
     ]
    }
   ],
   "source": [
    "PatternObj.decreasing_triangular_num_pat_71()"
   ]
  },
  {
   "cell_type": "code",
   "execution_count": 161,
   "id": "86ba79e8",
   "metadata": {},
   "outputs": [
    {
     "name": "stdout",
     "output_type": "stream",
     "text": [
      " E E E E E \n",
      "  D D D D \n",
      "   C C C \n",
      "    B B \n",
      "     A \n"
     ]
    }
   ],
   "source": [
    "PatternObj.decreasing_triangular_alpha_pat_72()"
   ]
  },
  {
   "cell_type": "code",
   "execution_count": 162,
   "id": "62393f3b",
   "metadata": {},
   "outputs": [
    {
     "name": "stdout",
     "output_type": "stream",
     "text": [
      " E D C B A \n",
      "  D C B A \n",
      "   C B A \n",
      "    B A \n",
      "     A \n"
     ]
    }
   ],
   "source": [
    "PatternObj.decreasing_triangular_alpha_pat_73()"
   ]
  },
  {
   "cell_type": "code",
   "execution_count": 163,
   "id": "53cff144",
   "metadata": {},
   "outputs": [
    {
     "name": "stdout",
     "output_type": "stream",
     "text": [
      "A B C D E \n",
      " A B C D \n",
      "  A B C \n",
      "   A B \n",
      "    A \n"
     ]
    }
   ],
   "source": [
    "PatternObj.decreasing_triangular_alpha_pat_74()"
   ]
  },
  {
   "cell_type": "code",
   "execution_count": 164,
   "id": "79788280",
   "metadata": {},
   "outputs": [
    {
     "name": "stdout",
     "output_type": "stream",
     "text": [
      "      * \n",
      "     * * \n",
      "    * * * \n",
      "   * * * * \n",
      "  * * * * * \n",
      "   * * * * \n",
      "    * * * \n",
      "     * * \n",
      "      * \n"
     ]
    }
   ],
   "source": [
    "PatternObj.diamond_pat_75()"
   ]
  },
  {
   "cell_type": "code",
   "execution_count": 166,
   "id": "77b17c2b",
   "metadata": {},
   "outputs": [
    {
     "name": "stdout",
     "output_type": "stream",
     "text": [
      "     \n",
      "    1 \n",
      "   2 2 \n",
      "  3 3 3 \n",
      " 4 4 4 4 \n",
      "5 5 5 5 5 \n",
      " 4 4 4 4 \n",
      "  3 3 3 \n",
      "   2 2 \n",
      "    1 \n"
     ]
    }
   ],
   "source": [
    "PatternObj.diamond_num_pat_76()"
   ]
  },
  {
   "cell_type": "code",
   "execution_count": 167,
   "id": "dd724b05",
   "metadata": {},
   "outputs": [
    {
     "name": "stdout",
     "output_type": "stream",
     "text": [
      "     \n",
      "    1 \n",
      "   1 2 \n",
      "  1 2 3 \n",
      " 1 2 3 4 \n",
      "1 2 3 4 5 \n",
      " 2 3 4 5 \n",
      "  3 4 5 \n",
      "   4 5 \n",
      "    5 \n"
     ]
    }
   ],
   "source": [
    "PatternObj.diamond_num_pat_77()"
   ]
  },
  {
   "cell_type": "code",
   "execution_count": 168,
   "id": "430e82c2",
   "metadata": {},
   "outputs": [
    {
     "name": "stdout",
     "output_type": "stream",
     "text": [
      "    1 \n",
      "   1 2 \n",
      "  1 2 3 \n",
      " 1 2 3 4 \n",
      "1 2 3 4 5 \n",
      " 1 2 3 4 \n",
      "  1 2 3 \n",
      "   1 2 \n",
      "    1 \n"
     ]
    }
   ],
   "source": [
    "PatternObj.diamond_num_pat_78()"
   ]
  },
  {
   "cell_type": "code",
   "execution_count": 169,
   "id": "8831c1db",
   "metadata": {},
   "outputs": [
    {
     "name": "stdout",
     "output_type": "stream",
     "text": [
      "    A \n",
      "   B B \n",
      "  C C C \n",
      " D D D D \n",
      "E E E E E \n",
      " D D D D \n",
      "  C C C \n",
      "   B B \n",
      "    A \n"
     ]
    }
   ],
   "source": [
    "PatternObj.diamond_alpha_pat_79()"
   ]
  },
  {
   "cell_type": "code",
   "execution_count": 170,
   "id": "c4fe217c",
   "metadata": {},
   "outputs": [
    {
     "name": "stdout",
     "output_type": "stream",
     "text": [
      "    A \n",
      "   A B \n",
      "  A B C \n",
      " A B C D \n",
      "A B C D E \n",
      " B C D E \n",
      "  C D E \n",
      "   D E \n",
      "    E \n"
     ]
    }
   ],
   "source": [
    "PatternObj.diamond_alpha_pat_80()"
   ]
  },
  {
   "cell_type": "code",
   "execution_count": 171,
   "id": "18cfe8ad",
   "metadata": {},
   "outputs": [
    {
     "name": "stdout",
     "output_type": "stream",
     "text": [
      "      * \n",
      "     * * \n",
      "    *   * \n",
      "   *     * \n",
      "  *       * \n",
      " *         * \n"
     ]
    }
   ],
   "source": [
    "PatternObj.inverted_v_shaped_pat_81()"
   ]
  },
  {
   "cell_type": "code",
   "execution_count": 172,
   "id": "c7a577a6",
   "metadata": {},
   "outputs": [
    {
     "name": "stdout",
     "output_type": "stream",
     "text": [
      "    1 \n",
      "   2 2 \n",
      "  3   3 \n",
      " 4     4 \n",
      "5       5 \n"
     ]
    }
   ],
   "source": [
    "PatternObj.inverted_v_shaped_num_pat_82()"
   ]
  },
  {
   "cell_type": "code",
   "execution_count": 173,
   "id": "2d4ca29a",
   "metadata": {},
   "outputs": [
    {
     "name": "stdout",
     "output_type": "stream",
     "text": [
      "     5 \n",
      "    4 4 \n",
      "   3   3 \n",
      "  2     2 \n",
      " 1       1 \n"
     ]
    }
   ],
   "source": [
    "PatternObj.inverted_v_shaped_num_pat_83()"
   ]
  },
  {
   "cell_type": "code",
   "execution_count": 174,
   "id": "6bf5b9b1",
   "metadata": {},
   "outputs": [
    {
     "name": "stdout",
     "output_type": "stream",
     "text": [
      "      A \n",
      "     B B \n",
      "    C   C \n",
      "   D     D \n",
      "  E       E \n"
     ]
    }
   ],
   "source": [
    "PatternObj.inverted_v_shaped_alpha_pat_84()"
   ]
  },
  {
   "cell_type": "code",
   "execution_count": 175,
   "id": "a74cb9cb",
   "metadata": {},
   "outputs": [
    {
     "name": "stdout",
     "output_type": "stream",
     "text": [
      "    E \n",
      "   D D \n",
      "  C   C \n",
      " B     B \n",
      "A       A \n"
     ]
    }
   ],
   "source": [
    "PatternObj.inverted_v_shaped_alpha_pat_85()"
   ]
  },
  {
   "cell_type": "code",
   "execution_count": 176,
   "id": "779b691e",
   "metadata": {},
   "outputs": [
    {
     "name": "stdout",
     "output_type": "stream",
     "text": [
      "*         * \n",
      " *       * \n",
      "  *     * \n",
      "   *   * \n",
      "    * * \n",
      "     * \n"
     ]
    }
   ],
   "source": [
    "PatternObj.v_shaped_pat_86()"
   ]
  },
  {
   "cell_type": "code",
   "execution_count": 177,
   "id": "723b7f5f",
   "metadata": {},
   "outputs": [
    {
     "name": "stdout",
     "output_type": "stream",
     "text": [
      "1       1\n",
      " 2     2\n",
      "  3   3\n",
      "   4 4\n",
      "    5\n"
     ]
    }
   ],
   "source": [
    "PatternObj.v_shaped_num_pat_87()"
   ]
  },
  {
   "cell_type": "code",
   "execution_count": 178,
   "id": "5deb03f3",
   "metadata": {},
   "outputs": [
    {
     "name": "stdout",
     "output_type": "stream",
     "text": [
      "5       5 \n",
      " 4     4 \n",
      "  3   3 \n",
      "   2 2 \n",
      "    1 \n",
      "     \n"
     ]
    }
   ],
   "source": [
    "PatternObj.v_shaped_num_pat_88()"
   ]
  },
  {
   "cell_type": "code",
   "execution_count": 179,
   "id": "a7a0ce32",
   "metadata": {},
   "outputs": [
    {
     "name": "stdout",
     "output_type": "stream",
     "text": [
      "  A       A \n",
      "   B     B \n",
      "    C   C \n",
      "     D D \n",
      "      E \n"
     ]
    }
   ],
   "source": [
    "PatternObj.v_shaped_alpha_pat_89()"
   ]
  },
  {
   "cell_type": "code",
   "execution_count": 180,
   "id": "5b8813b5",
   "metadata": {},
   "outputs": [
    {
     "name": "stdout",
     "output_type": "stream",
     "text": [
      "E       E \n",
      " D     D \n",
      "  C   C \n",
      "   B B \n",
      "    A \n"
     ]
    }
   ],
   "source": [
    "PatternObj.v_shaped_alpha_pat_90()"
   ]
  },
  {
   "cell_type": "code",
   "execution_count": 181,
   "id": "4f8487de",
   "metadata": {},
   "outputs": [
    {
     "name": "stdout",
     "output_type": "stream",
     "text": [
      "      * \n",
      "     * * \n",
      "    *   * \n",
      "   *     * \n",
      "  *       * \n",
      " *         * \n",
      "  *       * \n",
      "   *     * \n",
      "    *   * \n",
      "     * * \n",
      "      * \n"
     ]
    }
   ],
   "source": [
    "PatternObj.hallow_diamond_pat_91()"
   ]
  },
  {
   "cell_type": "code",
   "execution_count": 182,
   "id": "c7a4f116",
   "metadata": {},
   "outputs": [
    {
     "name": "stdout",
     "output_type": "stream",
     "text": [
      "     \n",
      "    1 \n",
      "   2 2 \n",
      "  3   3 \n",
      " 4     4 \n",
      "5       5 \n",
      " 4     4 \n",
      "  3   3 \n",
      "   2 2 \n",
      "    1 \n"
     ]
    }
   ],
   "source": [
    "PatternObj.hallow_diamond_num_pat_92()"
   ]
  },
  {
   "cell_type": "code",
   "execution_count": 183,
   "id": "5ca0808b",
   "metadata": {},
   "outputs": [
    {
     "name": "stdout",
     "output_type": "stream",
     "text": [
      "     \n",
      "    5 \n",
      "   4 4 \n",
      "  3   3 \n",
      " 2     2 \n",
      "1       1 \n",
      " 2     2 \n",
      "  3   3 \n",
      "   4 4 \n",
      "    5 \n"
     ]
    }
   ],
   "source": [
    "PatternObj.hallow_diamond_num_pat_93()"
   ]
  },
  {
   "cell_type": "code",
   "execution_count": 187,
   "id": "3f046bf5",
   "metadata": {},
   "outputs": [
    {
     "name": "stdout",
     "output_type": "stream",
     "text": [
      "     \n",
      "    A \n",
      "   B B \n",
      "  C   C \n",
      " D     D \n",
      "E       E \n",
      " D     D \n",
      "  C   C \n",
      "   B B \n",
      "    A \n"
     ]
    }
   ],
   "source": [
    "PatternObj.hallow_diamond_alpha_pat_94()"
   ]
  },
  {
   "cell_type": "code",
   "execution_count": 196,
   "id": "aa5090c4",
   "metadata": {},
   "outputs": [
    {
     "name": "stdout",
     "output_type": "stream",
     "text": [
      "     \n",
      "    E \n",
      "   D D \n",
      "  C   C \n",
      " B     B \n",
      "A       A \n",
      " B     B \n",
      "  C   C \n",
      "   D D \n",
      "    E \n"
     ]
    }
   ],
   "source": [
    "PatternObj.hallow_diamond_alpha_pat_95()"
   ]
  },
  {
   "cell_type": "code",
   "execution_count": 189,
   "id": "ab937ac8",
   "metadata": {},
   "outputs": [
    {
     "name": "stdout",
     "output_type": "stream",
     "text": [
      "**********\n",
      "****  ****\n",
      "***    ***\n",
      "**      **\n",
      "*        *\n",
      "          \n"
     ]
    }
   ],
   "source": [
    "PatternObj.half_diamond_with_increasing_space_96()"
   ]
  },
  {
   "cell_type": "code",
   "execution_count": 190,
   "id": "8a988ae5",
   "metadata": {},
   "outputs": [
    {
     "name": "stdout",
     "output_type": "stream",
     "text": [
      "*        *\n",
      "**      **\n",
      "***    ***\n",
      "****  ****\n",
      "**********\n"
     ]
    }
   ],
   "source": [
    "PatternObj.decreasing_space_diamond_pattern_97()"
   ]
  },
  {
   "cell_type": "code",
   "execution_count": 191,
   "id": "9fec68b9",
   "metadata": {},
   "outputs": [
    {
     "name": "stdout",
     "output_type": "stream",
     "text": [
      "*        *\n",
      "**      **\n",
      "***    ***\n",
      "****  ****\n",
      "**********\n",
      "****  ****\n",
      "***    ***\n",
      "**      **\n",
      "*        *\n"
     ]
    }
   ],
   "source": [
    "PatternObj.mirrored_diamond_98()"
   ]
  },
  {
   "cell_type": "code",
   "execution_count": 212,
   "id": "8a67542a",
   "metadata": {},
   "outputs": [
    {
     "name": "stdout",
     "output_type": "stream",
     "text": [
      "        *                 * \n",
      "      * * *             * * * \n",
      "    * * * * *         * * * * * \n",
      "  * * * * * * *     * * * * * * * \n",
      "* * * * * * * * * * * * * * * * * * \n"
     ]
    }
   ],
   "source": [
    "PatternObj1.symmetrical_triangular_pat_99()"
   ]
  },
  {
   "cell_type": "code",
   "execution_count": 193,
   "id": "2bb26eea",
   "metadata": {},
   "outputs": [
    {
     "name": "stdout",
     "output_type": "stream",
     "text": [
      "    *         * \n",
      "   * *       * * \n",
      "  * * *     * * * \n",
      " * * * *   * * * * \n",
      "* * * * * * * * * * \n"
     ]
    }
   ],
   "source": [
    "PatternObj.symmetrical_triangular_pat_100()"
   ]
  }
 ],
 "metadata": {
  "kernelspec": {
   "display_name": "Python 3 (ipykernel)",
   "language": "python",
   "name": "python3"
  },
  "language_info": {
   "codemirror_mode": {
    "name": "ipython",
    "version": 3
   },
   "file_extension": ".py",
   "mimetype": "text/x-python",
   "name": "python",
   "nbconvert_exporter": "python",
   "pygments_lexer": "ipython3",
   "version": "3.11.5"
  }
 },
 "nbformat": 4,
 "nbformat_minor": 5
}
